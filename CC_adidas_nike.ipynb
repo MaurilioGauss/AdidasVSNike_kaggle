{
 "cells": [
  {
   "cell_type": "markdown",
   "metadata": {},
   "source": [
    "# Competição do Dataset Adidas vs Nike (kaggle)"
   ]
  },
  {
   "cell_type": "markdown",
   "metadata": {},
   "source": [
    "# Objetivo"
   ]
  },
  {
   "cell_type": "markdown",
   "metadata": {},
   "source": [
    "# Introdução"
   ]
  },
  {
   "cell_type": "markdown",
   "metadata": {},
   "source": [
    "# Desenvolvimento "
   ]
  },
  {
   "cell_type": "markdown",
   "metadata": {},
   "source": [
    "# Análise dos dados"
   ]
  },
  {
   "cell_type": "code",
   "execution_count": 1,
   "metadata": {},
   "outputs": [],
   "source": [
    "import pandas as pd\n",
    "import re\n",
    "import seaborn as sns\n",
    "import seaborn.objects as so\n",
    "import matplotlib as plt\n",
    "import numpy as np"
   ]
  },
  {
   "cell_type": "code",
   "execution_count": 2,
   "metadata": {},
   "outputs": [],
   "source": [
    "dados = pd.read_csv('C:/Users/mauri/Desktop/Cursos Diversos/kaggle/AdidasNike/Data/AdidasVsNike.csv' , sep=',')"
   ]
  },
  {
   "cell_type": "code",
   "execution_count": 3,
   "metadata": {},
   "outputs": [
    {
     "data": {
      "text/html": [
       "<div>\n",
       "<style scoped>\n",
       "    .dataframe tbody tr th:only-of-type {\n",
       "        vertical-align: middle;\n",
       "    }\n",
       "\n",
       "    .dataframe tbody tr th {\n",
       "        vertical-align: top;\n",
       "    }\n",
       "\n",
       "    .dataframe thead th {\n",
       "        text-align: right;\n",
       "    }\n",
       "</style>\n",
       "<table border=\"1\" class=\"dataframe\">\n",
       "  <thead>\n",
       "    <tr style=\"text-align: right;\">\n",
       "      <th></th>\n",
       "      <th>Product Name</th>\n",
       "      <th>Product ID</th>\n",
       "      <th>Listing Price</th>\n",
       "      <th>Sale Price</th>\n",
       "      <th>Discount</th>\n",
       "      <th>Brand</th>\n",
       "      <th>Description</th>\n",
       "      <th>Rating</th>\n",
       "      <th>Reviews</th>\n",
       "      <th>Last Visited</th>\n",
       "    </tr>\n",
       "  </thead>\n",
       "  <tbody>\n",
       "    <tr>\n",
       "      <th>0</th>\n",
       "      <td>Women's adidas Originals NMD_Racer Primeknit S...</td>\n",
       "      <td>AH2430</td>\n",
       "      <td>14999</td>\n",
       "      <td>7499</td>\n",
       "      <td>50</td>\n",
       "      <td>Adidas Adidas ORIGINALS</td>\n",
       "      <td>Channeling the streamlined look of an '80s rac...</td>\n",
       "      <td>4.8</td>\n",
       "      <td>41</td>\n",
       "      <td>2020-04-13T15:06:14</td>\n",
       "    </tr>\n",
       "    <tr>\n",
       "      <th>1</th>\n",
       "      <td>Women's adidas Originals Sleek Shoes</td>\n",
       "      <td>G27341</td>\n",
       "      <td>7599</td>\n",
       "      <td>3799</td>\n",
       "      <td>50</td>\n",
       "      <td>Adidas ORIGINALS</td>\n",
       "      <td>A modern take on adidas sport heritage, tailor...</td>\n",
       "      <td>3.3</td>\n",
       "      <td>24</td>\n",
       "      <td>2020-04-13T15:06:15</td>\n",
       "    </tr>\n",
       "    <tr>\n",
       "      <th>2</th>\n",
       "      <td>Women's adidas Swim Puka Slippers</td>\n",
       "      <td>CM0081</td>\n",
       "      <td>999</td>\n",
       "      <td>599</td>\n",
       "      <td>40</td>\n",
       "      <td>Adidas CORE / NEO</td>\n",
       "      <td>These adidas Puka slippers for women's come wi...</td>\n",
       "      <td>2.6</td>\n",
       "      <td>37</td>\n",
       "      <td>2020-04-13T15:06:15</td>\n",
       "    </tr>\n",
       "  </tbody>\n",
       "</table>\n",
       "</div>"
      ],
      "text/plain": [
       "                                        Product Name Product ID  \\\n",
       "0  Women's adidas Originals NMD_Racer Primeknit S...     AH2430   \n",
       "1               Women's adidas Originals Sleek Shoes     G27341   \n",
       "2                  Women's adidas Swim Puka Slippers     CM0081   \n",
       "\n",
       "   Listing Price  Sale Price  Discount                    Brand  \\\n",
       "0          14999        7499        50  Adidas Adidas ORIGINALS   \n",
       "1           7599        3799        50         Adidas ORIGINALS   \n",
       "2            999         599        40        Adidas CORE / NEO   \n",
       "\n",
       "                                         Description  Rating  Reviews  \\\n",
       "0  Channeling the streamlined look of an '80s rac...     4.8       41   \n",
       "1  A modern take on adidas sport heritage, tailor...     3.3       24   \n",
       "2  These adidas Puka slippers for women's come wi...     2.6       37   \n",
       "\n",
       "          Last Visited  \n",
       "0  2020-04-13T15:06:14  \n",
       "1  2020-04-13T15:06:15  \n",
       "2  2020-04-13T15:06:15  "
      ]
     },
     "execution_count": 3,
     "metadata": {},
     "output_type": "execute_result"
    }
   ],
   "source": [
    "dados.head(3)"
   ]
  },
  {
   "cell_type": "markdown",
   "metadata": {},
   "source": [
    "----\n",
    "Dimensão da base\n",
    "- Base de possui 10 colunas e 3268 linhas.\n",
    "----"
   ]
  },
  {
   "cell_type": "code",
   "execution_count": 4,
   "metadata": {},
   "outputs": [
    {
     "name": "stdout",
     "output_type": "stream",
     "text": [
      "(3268, 10)\n"
     ]
    }
   ],
   "source": [
    "print(dados.shape)"
   ]
  },
  {
   "cell_type": "markdown",
   "metadata": {},
   "source": [
    "----\n",
    "## Dicionário de dados \n",
    "- **Product Name**: Nome dos produtos\n",
    "- **Product ID**: Código dos produtos \n",
    "- **Listing Price**: Preço tabelado dos produtos\n",
    "- **Sale Price**: Preço de venda dos produtos\n",
    "- **Discount**: Desconto aplicado ao produto\n",
    "- **Brand**: Marca do produto\n",
    "- **Description**: Descrição dos produtos vendidos\n",
    "- **Rating**: Nota de avaliação do produto\n",
    "- **Reviews**: Quantidade de visualização do produto\n",
    "- **Last Visited**: Última data de visita\n",
    "----\n"
   ]
  },
  {
   "cell_type": "markdown",
   "metadata": {},
   "source": [
    "-------\n",
    "Análise de dados faltantes\n",
    "- Foram identificados apenas 3 informações nulas. Sendo a descrição de três produtos.\n",
    "------"
   ]
  },
  {
   "cell_type": "code",
   "execution_count": 5,
   "metadata": {},
   "outputs": [
    {
     "data": {
      "text/plain": [
       "Product Name     0\n",
       "Product ID       0\n",
       "Listing Price    0\n",
       "Sale Price       0\n",
       "Discount         0\n",
       "Brand            0\n",
       "Description      3\n",
       "Rating           0\n",
       "Reviews          0\n",
       "Last Visited     0\n",
       "dtype: int64"
      ]
     },
     "execution_count": 5,
     "metadata": {},
     "output_type": "execute_result"
    }
   ],
   "source": [
    "dados.isnull().sum()"
   ]
  },
  {
   "cell_type": "code",
   "execution_count": 6,
   "metadata": {},
   "outputs": [
    {
     "data": {
      "text/html": [
       "<div>\n",
       "<style scoped>\n",
       "    .dataframe tbody tr th:only-of-type {\n",
       "        vertical-align: middle;\n",
       "    }\n",
       "\n",
       "    .dataframe tbody tr th {\n",
       "        vertical-align: top;\n",
       "    }\n",
       "\n",
       "    .dataframe thead th {\n",
       "        text-align: right;\n",
       "    }\n",
       "</style>\n",
       "<table border=\"1\" class=\"dataframe\">\n",
       "  <thead>\n",
       "    <tr style=\"text-align: right;\">\n",
       "      <th></th>\n",
       "      <th>Product Name</th>\n",
       "      <th>Product ID</th>\n",
       "      <th>Listing Price</th>\n",
       "      <th>Sale Price</th>\n",
       "      <th>Discount</th>\n",
       "      <th>Brand</th>\n",
       "      <th>Description</th>\n",
       "      <th>Rating</th>\n",
       "      <th>Reviews</th>\n",
       "      <th>Last Visited</th>\n",
       "    </tr>\n",
       "  </thead>\n",
       "  <tbody>\n",
       "    <tr>\n",
       "      <th>2780</th>\n",
       "      <td>Nike React Infinity Run Flyknit</td>\n",
       "      <td>CD4371-001</td>\n",
       "      <td>0</td>\n",
       "      <td>13995</td>\n",
       "      <td>0</td>\n",
       "      <td>Nike</td>\n",
       "      <td>NaN</td>\n",
       "      <td>4.6</td>\n",
       "      <td>68</td>\n",
       "      <td>2020-04-13T15:30:15</td>\n",
       "    </tr>\n",
       "    <tr>\n",
       "      <th>2888</th>\n",
       "      <td>Nike React Infinity Run Flyknit</td>\n",
       "      <td>CD4372-004</td>\n",
       "      <td>0</td>\n",
       "      <td>13995</td>\n",
       "      <td>0</td>\n",
       "      <td>Nike</td>\n",
       "      <td>NaN</td>\n",
       "      <td>4.2</td>\n",
       "      <td>29</td>\n",
       "      <td>2020-04-13T15:32:18</td>\n",
       "    </tr>\n",
       "    <tr>\n",
       "      <th>3133</th>\n",
       "      <td>Nike Free X Metcon 2</td>\n",
       "      <td>CD8526-446</td>\n",
       "      <td>0</td>\n",
       "      <td>9995</td>\n",
       "      <td>0</td>\n",
       "      <td>Nike</td>\n",
       "      <td>NaN</td>\n",
       "      <td>3.0</td>\n",
       "      <td>7</td>\n",
       "      <td>2020-04-13T15:36:37</td>\n",
       "    </tr>\n",
       "  </tbody>\n",
       "</table>\n",
       "</div>"
      ],
      "text/plain": [
       "                         Product Name  Product ID  Listing Price  Sale Price  \\\n",
       "2780  Nike React Infinity Run Flyknit  CD4371-001              0       13995   \n",
       "2888  Nike React Infinity Run Flyknit  CD4372-004              0       13995   \n",
       "3133             Nike Free X Metcon 2  CD8526-446              0        9995   \n",
       "\n",
       "      Discount Brand Description  Rating  Reviews         Last Visited  \n",
       "2780         0  Nike         NaN     4.6       68  2020-04-13T15:30:15  \n",
       "2888         0  Nike         NaN     4.2       29  2020-04-13T15:32:18  \n",
       "3133         0  Nike         NaN     3.0        7  2020-04-13T15:36:37  "
      ]
     },
     "execution_count": 6,
     "metadata": {},
     "output_type": "execute_result"
    }
   ],
   "source": [
    "dados[dados['Description'].isnull()]\n"
   ]
  },
  {
   "cell_type": "code",
   "execution_count": 7,
   "metadata": {},
   "outputs": [
    {
     "data": {
      "text/html": [
       "<div>\n",
       "<style scoped>\n",
       "    .dataframe tbody tr th:only-of-type {\n",
       "        vertical-align: middle;\n",
       "    }\n",
       "\n",
       "    .dataframe tbody tr th {\n",
       "        vertical-align: top;\n",
       "    }\n",
       "\n",
       "    .dataframe thead th {\n",
       "        text-align: right;\n",
       "    }\n",
       "</style>\n",
       "<table border=\"1\" class=\"dataframe\">\n",
       "  <thead>\n",
       "    <tr style=\"text-align: right;\">\n",
       "      <th></th>\n",
       "      <th>Product Name</th>\n",
       "      <th>Product ID</th>\n",
       "      <th>Listing Price</th>\n",
       "      <th>Sale Price</th>\n",
       "      <th>Discount</th>\n",
       "      <th>Brand</th>\n",
       "      <th>Description</th>\n",
       "      <th>Rating</th>\n",
       "      <th>Reviews</th>\n",
       "      <th>Last Visited</th>\n",
       "    </tr>\n",
       "  </thead>\n",
       "  <tbody>\n",
       "    <tr>\n",
       "      <th>2780</th>\n",
       "      <td>Nike React Infinity Run Flyknit</td>\n",
       "      <td>CD4371-001</td>\n",
       "      <td>0</td>\n",
       "      <td>13995</td>\n",
       "      <td>0</td>\n",
       "      <td>Nike</td>\n",
       "      <td>NaN</td>\n",
       "      <td>4.6</td>\n",
       "      <td>68</td>\n",
       "      <td>2020-04-13T15:30:15</td>\n",
       "    </tr>\n",
       "    <tr>\n",
       "      <th>2888</th>\n",
       "      <td>Nike React Infinity Run Flyknit</td>\n",
       "      <td>CD4372-004</td>\n",
       "      <td>0</td>\n",
       "      <td>13995</td>\n",
       "      <td>0</td>\n",
       "      <td>Nike</td>\n",
       "      <td>NaN</td>\n",
       "      <td>4.2</td>\n",
       "      <td>29</td>\n",
       "      <td>2020-04-13T15:32:18</td>\n",
       "    </tr>\n",
       "  </tbody>\n",
       "</table>\n",
       "</div>"
      ],
      "text/plain": [
       "                         Product Name  Product ID  Listing Price  Sale Price  \\\n",
       "2780  Nike React Infinity Run Flyknit  CD4371-001              0       13995   \n",
       "2888  Nike React Infinity Run Flyknit  CD4372-004              0       13995   \n",
       "\n",
       "      Discount Brand Description  Rating  Reviews         Last Visited  \n",
       "2780         0  Nike         NaN     4.6       68  2020-04-13T15:30:15  \n",
       "2888         0  Nike         NaN     4.2       29  2020-04-13T15:32:18  "
      ]
     },
     "execution_count": 7,
     "metadata": {},
     "output_type": "execute_result"
    }
   ],
   "source": [
    "dados[dados['Product Name']=='Nike React Infinity Run Flyknit']"
   ]
  },
  {
   "cell_type": "code",
   "execution_count": 8,
   "metadata": {},
   "outputs": [
    {
     "data": {
      "text/html": [
       "<div>\n",
       "<style scoped>\n",
       "    .dataframe tbody tr th:only-of-type {\n",
       "        vertical-align: middle;\n",
       "    }\n",
       "\n",
       "    .dataframe tbody tr th {\n",
       "        vertical-align: top;\n",
       "    }\n",
       "\n",
       "    .dataframe thead th {\n",
       "        text-align: right;\n",
       "    }\n",
       "</style>\n",
       "<table border=\"1\" class=\"dataframe\">\n",
       "  <thead>\n",
       "    <tr style=\"text-align: right;\">\n",
       "      <th></th>\n",
       "      <th>Product Name</th>\n",
       "      <th>Product ID</th>\n",
       "      <th>Listing Price</th>\n",
       "      <th>Sale Price</th>\n",
       "      <th>Discount</th>\n",
       "      <th>Brand</th>\n",
       "      <th>Description</th>\n",
       "      <th>Rating</th>\n",
       "      <th>Reviews</th>\n",
       "      <th>Last Visited</th>\n",
       "    </tr>\n",
       "  </thead>\n",
       "  <tbody>\n",
       "    <tr>\n",
       "      <th>2822</th>\n",
       "      <td>Nike Free X Metcon 2</td>\n",
       "      <td>AQ8306-407</td>\n",
       "      <td>9995</td>\n",
       "      <td>7997</td>\n",
       "      <td>0</td>\n",
       "      <td>Nike</td>\n",
       "      <td>The Nike Free X Metcon will take you from a sh...</td>\n",
       "      <td>3.4</td>\n",
       "      <td>23</td>\n",
       "      <td>2020-04-13T15:30:25</td>\n",
       "    </tr>\n",
       "    <tr>\n",
       "      <th>3133</th>\n",
       "      <td>Nike Free X Metcon 2</td>\n",
       "      <td>CD8526-446</td>\n",
       "      <td>0</td>\n",
       "      <td>9995</td>\n",
       "      <td>0</td>\n",
       "      <td>Nike</td>\n",
       "      <td>NaN</td>\n",
       "      <td>3.0</td>\n",
       "      <td>7</td>\n",
       "      <td>2020-04-13T15:36:37</td>\n",
       "    </tr>\n",
       "  </tbody>\n",
       "</table>\n",
       "</div>"
      ],
      "text/plain": [
       "              Product Name  Product ID  Listing Price  Sale Price  Discount  \\\n",
       "2822  Nike Free X Metcon 2  AQ8306-407           9995        7997         0   \n",
       "3133  Nike Free X Metcon 2  CD8526-446              0        9995         0   \n",
       "\n",
       "     Brand                                        Description  Rating  \\\n",
       "2822  Nike  The Nike Free X Metcon will take you from a sh...     3.4   \n",
       "3133  Nike                                                NaN     3.0   \n",
       "\n",
       "      Reviews         Last Visited  \n",
       "2822       23  2020-04-13T15:30:25  \n",
       "3133        7  2020-04-13T15:36:37  "
      ]
     },
     "execution_count": 8,
     "metadata": {},
     "output_type": "execute_result"
    }
   ],
   "source": [
    "dados[dados['Product Name']=='Nike Free X Metcon 2']"
   ]
  },
  {
   "cell_type": "code",
   "execution_count": 9,
   "metadata": {},
   "outputs": [
    {
     "data": {
      "text/html": [
       "<div>\n",
       "<style scoped>\n",
       "    .dataframe tbody tr th:only-of-type {\n",
       "        vertical-align: middle;\n",
       "    }\n",
       "\n",
       "    .dataframe tbody tr th {\n",
       "        vertical-align: top;\n",
       "    }\n",
       "\n",
       "    .dataframe thead th {\n",
       "        text-align: right;\n",
       "    }\n",
       "</style>\n",
       "<table border=\"1\" class=\"dataframe\">\n",
       "  <thead>\n",
       "    <tr style=\"text-align: right;\">\n",
       "      <th></th>\n",
       "      <th>Product ID</th>\n",
       "    </tr>\n",
       "    <tr>\n",
       "      <th>Brand</th>\n",
       "      <th></th>\n",
       "    </tr>\n",
       "  </thead>\n",
       "  <tbody>\n",
       "    <tr>\n",
       "      <th>Adidas Adidas ORIGINALS</th>\n",
       "      <td>1</td>\n",
       "    </tr>\n",
       "    <tr>\n",
       "      <th>Adidas CORE / NEO</th>\n",
       "      <td>1111</td>\n",
       "    </tr>\n",
       "    <tr>\n",
       "      <th>Adidas ORIGINALS</th>\n",
       "      <td>907</td>\n",
       "    </tr>\n",
       "    <tr>\n",
       "      <th>Adidas SPORT PERFORMANCE</th>\n",
       "      <td>606</td>\n",
       "    </tr>\n",
       "    <tr>\n",
       "      <th>Nike</th>\n",
       "      <td>643</td>\n",
       "    </tr>\n",
       "  </tbody>\n",
       "</table>\n",
       "</div>"
      ],
      "text/plain": [
       "                          Product ID\n",
       "Brand                               \n",
       "Adidas Adidas ORIGINALS            1\n",
       "Adidas CORE / NEO               1111\n",
       "Adidas ORIGINALS                 907\n",
       "Adidas SPORT PERFORMANCE         606\n",
       "Nike                             643"
      ]
     },
     "execution_count": 9,
     "metadata": {},
     "output_type": "execute_result"
    }
   ],
   "source": [
    "dados.groupby('Brand').agg({'Product ID': 'count'})"
   ]
  },
  {
   "cell_type": "code",
   "execution_count": 10,
   "metadata": {},
   "outputs": [
    {
     "data": {
      "text/html": [
       "<div>\n",
       "<style scoped>\n",
       "    .dataframe tbody tr th:only-of-type {\n",
       "        vertical-align: middle;\n",
       "    }\n",
       "\n",
       "    .dataframe tbody tr th {\n",
       "        vertical-align: top;\n",
       "    }\n",
       "\n",
       "    .dataframe thead th {\n",
       "        text-align: right;\n",
       "    }\n",
       "</style>\n",
       "<table border=\"1\" class=\"dataframe\">\n",
       "  <thead>\n",
       "    <tr style=\"text-align: right;\">\n",
       "      <th></th>\n",
       "      <th>Product Name</th>\n",
       "      <th>Product ID</th>\n",
       "      <th>Listing Price</th>\n",
       "      <th>Sale Price</th>\n",
       "      <th>Discount</th>\n",
       "      <th>Brand</th>\n",
       "      <th>Description</th>\n",
       "      <th>Rating</th>\n",
       "      <th>Reviews</th>\n",
       "      <th>Last Visited</th>\n",
       "    </tr>\n",
       "  </thead>\n",
       "  <tbody>\n",
       "    <tr>\n",
       "      <th>0</th>\n",
       "      <td>Women's adidas Originals NMD_Racer Primeknit S...</td>\n",
       "      <td>AH2430</td>\n",
       "      <td>14999</td>\n",
       "      <td>7499</td>\n",
       "      <td>50</td>\n",
       "      <td>Adidas Adidas ORIGINALS</td>\n",
       "      <td>Channeling the streamlined look of an '80s rac...</td>\n",
       "      <td>4.8</td>\n",
       "      <td>41</td>\n",
       "      <td>2020-04-13T15:06:14</td>\n",
       "    </tr>\n",
       "  </tbody>\n",
       "</table>\n",
       "</div>"
      ],
      "text/plain": [
       "                                        Product Name Product ID  \\\n",
       "0  Women's adidas Originals NMD_Racer Primeknit S...     AH2430   \n",
       "\n",
       "   Listing Price  Sale Price  Discount                    Brand  \\\n",
       "0          14999        7499        50  Adidas Adidas ORIGINALS   \n",
       "\n",
       "                                         Description  Rating  Reviews  \\\n",
       "0  Channeling the streamlined look of an '80s rac...     4.8       41   \n",
       "\n",
       "          Last Visited  \n",
       "0  2020-04-13T15:06:14  "
      ]
     },
     "execution_count": 10,
     "metadata": {},
     "output_type": "execute_result"
    }
   ],
   "source": [
    "dados[dados['Brand']=='Adidas Adidas ORIGINALS']"
   ]
  },
  {
   "cell_type": "code",
   "execution_count": 11,
   "metadata": {},
   "outputs": [
    {
     "data": {
      "text/html": [
       "<div>\n",
       "<style scoped>\n",
       "    .dataframe tbody tr th:only-of-type {\n",
       "        vertical-align: middle;\n",
       "    }\n",
       "\n",
       "    .dataframe tbody tr th {\n",
       "        vertical-align: top;\n",
       "    }\n",
       "\n",
       "    .dataframe thead th {\n",
       "        text-align: right;\n",
       "    }\n",
       "</style>\n",
       "<table border=\"1\" class=\"dataframe\">\n",
       "  <thead>\n",
       "    <tr style=\"text-align: right;\">\n",
       "      <th></th>\n",
       "      <th>Product Name</th>\n",
       "      <th>Product ID</th>\n",
       "      <th>Listing Price</th>\n",
       "      <th>Sale Price</th>\n",
       "      <th>Discount</th>\n",
       "      <th>Brand</th>\n",
       "      <th>Description</th>\n",
       "      <th>Rating</th>\n",
       "      <th>Reviews</th>\n",
       "      <th>Last Visited</th>\n",
       "    </tr>\n",
       "  </thead>\n",
       "  <tbody>\n",
       "    <tr>\n",
       "      <th>1</th>\n",
       "      <td>Women's adidas Originals Sleek Shoes</td>\n",
       "      <td>G27341</td>\n",
       "      <td>7599</td>\n",
       "      <td>3799</td>\n",
       "      <td>50</td>\n",
       "      <td>Adidas ORIGINALS</td>\n",
       "      <td>A modern take on adidas sport heritage, tailor...</td>\n",
       "      <td>3.3</td>\n",
       "      <td>24</td>\n",
       "      <td>2020-04-13T15:06:15</td>\n",
       "    </tr>\n",
       "    <tr>\n",
       "      <th>4</th>\n",
       "      <td>Women's adidas Originals Taekwondo Shoes</td>\n",
       "      <td>D98205</td>\n",
       "      <td>7999</td>\n",
       "      <td>3999</td>\n",
       "      <td>50</td>\n",
       "      <td>Adidas ORIGINALS</td>\n",
       "      <td>This design is inspired by vintage Taekwondo s...</td>\n",
       "      <td>3.5</td>\n",
       "      <td>72</td>\n",
       "      <td>2020-04-13T15:06:15</td>\n",
       "    </tr>\n",
       "    <tr>\n",
       "      <th>9</th>\n",
       "      <td>Men's adidas Originals Forest Grove Shoes</td>\n",
       "      <td>EE5761</td>\n",
       "      <td>6599</td>\n",
       "      <td>3959</td>\n",
       "      <td>40</td>\n",
       "      <td>Adidas ORIGINALS</td>\n",
       "      <td>The Forest Grove brings back the look of the a...</td>\n",
       "      <td>4.0</td>\n",
       "      <td>39</td>\n",
       "      <td>2020-04-13T15:06:15</td>\n",
       "    </tr>\n",
       "  </tbody>\n",
       "</table>\n",
       "</div>"
      ],
      "text/plain": [
       "                                Product Name Product ID  Listing Price  \\\n",
       "1       Women's adidas Originals Sleek Shoes     G27341           7599   \n",
       "4   Women's adidas Originals Taekwondo Shoes     D98205           7999   \n",
       "9  Men's adidas Originals Forest Grove Shoes     EE5761           6599   \n",
       "\n",
       "   Sale Price  Discount             Brand  \\\n",
       "1        3799        50  Adidas ORIGINALS   \n",
       "4        3999        50  Adidas ORIGINALS   \n",
       "9        3959        40  Adidas ORIGINALS   \n",
       "\n",
       "                                         Description  Rating  Reviews  \\\n",
       "1  A modern take on adidas sport heritage, tailor...     3.3       24   \n",
       "4  This design is inspired by vintage Taekwondo s...     3.5       72   \n",
       "9  The Forest Grove brings back the look of the a...     4.0       39   \n",
       "\n",
       "          Last Visited  \n",
       "1  2020-04-13T15:06:15  \n",
       "4  2020-04-13T15:06:15  \n",
       "9  2020-04-13T15:06:15  "
      ]
     },
     "execution_count": 11,
     "metadata": {},
     "output_type": "execute_result"
    }
   ],
   "source": [
    "dados[dados['Brand']=='Adidas ORIGINALS'].head(3)"
   ]
  },
  {
   "cell_type": "code",
   "execution_count": 12,
   "metadata": {},
   "outputs": [],
   "source": [
    "dados['Brand']= dados['Brand'].apply(lambda x : re.sub(r'Adidas Adidas', 'Adidas', x) )"
   ]
  },
  {
   "cell_type": "code",
   "execution_count": 13,
   "metadata": {},
   "outputs": [
    {
     "data": {
      "text/html": [
       "<div>\n",
       "<style scoped>\n",
       "    .dataframe tbody tr th:only-of-type {\n",
       "        vertical-align: middle;\n",
       "    }\n",
       "\n",
       "    .dataframe tbody tr th {\n",
       "        vertical-align: top;\n",
       "    }\n",
       "\n",
       "    .dataframe thead th {\n",
       "        text-align: right;\n",
       "    }\n",
       "</style>\n",
       "<table border=\"1\" class=\"dataframe\">\n",
       "  <thead>\n",
       "    <tr style=\"text-align: right;\">\n",
       "      <th></th>\n",
       "      <th>Product ID</th>\n",
       "    </tr>\n",
       "    <tr>\n",
       "      <th>Brand</th>\n",
       "      <th></th>\n",
       "    </tr>\n",
       "  </thead>\n",
       "  <tbody>\n",
       "    <tr>\n",
       "      <th>Adidas CORE / NEO</th>\n",
       "      <td>1111</td>\n",
       "    </tr>\n",
       "    <tr>\n",
       "      <th>Adidas ORIGINALS</th>\n",
       "      <td>908</td>\n",
       "    </tr>\n",
       "    <tr>\n",
       "      <th>Adidas SPORT PERFORMANCE</th>\n",
       "      <td>606</td>\n",
       "    </tr>\n",
       "    <tr>\n",
       "      <th>Nike</th>\n",
       "      <td>643</td>\n",
       "    </tr>\n",
       "  </tbody>\n",
       "</table>\n",
       "</div>"
      ],
      "text/plain": [
       "                          Product ID\n",
       "Brand                               \n",
       "Adidas CORE / NEO               1111\n",
       "Adidas ORIGINALS                 908\n",
       "Adidas SPORT PERFORMANCE         606\n",
       "Nike                             643"
      ]
     },
     "execution_count": 13,
     "metadata": {},
     "output_type": "execute_result"
    }
   ],
   "source": [
    "dados.groupby('Brand').agg({'Product ID': 'count'})"
   ]
  },
  {
   "cell_type": "markdown",
   "metadata": {},
   "source": [
    "## Análise Exploratória de Dados "
   ]
  },
  {
   "cell_type": "markdown",
   "metadata": {},
   "source": [
    "------\n",
    "Identificar os Big Number\n",
    "\n",
    "------"
   ]
  },
  {
   "cell_type": "code",
   "execution_count": 14,
   "metadata": {},
   "outputs": [
    {
     "data": {
      "text/html": [
       "<div>\n",
       "<style scoped>\n",
       "    .dataframe tbody tr th:only-of-type {\n",
       "        vertical-align: middle;\n",
       "    }\n",
       "\n",
       "    .dataframe tbody tr th {\n",
       "        vertical-align: top;\n",
       "    }\n",
       "\n",
       "    .dataframe thead th {\n",
       "        text-align: right;\n",
       "    }\n",
       "</style>\n",
       "<table border=\"1\" class=\"dataframe\">\n",
       "  <thead>\n",
       "    <tr style=\"text-align: right;\">\n",
       "      <th></th>\n",
       "      <th>Quant_Prod</th>\n",
       "      <th>Preco_Total</th>\n",
       "      <th>Total_Vendas</th>\n",
       "    </tr>\n",
       "    <tr>\n",
       "      <th>Brand</th>\n",
       "      <th></th>\n",
       "      <th></th>\n",
       "      <th></th>\n",
       "    </tr>\n",
       "  </thead>\n",
       "  <tbody>\n",
       "    <tr>\n",
       "      <th>Adidas CORE / NEO</th>\n",
       "      <td>1111</td>\n",
       "      <td>5501489</td>\n",
       "      <td>3462112</td>\n",
       "    </tr>\n",
       "    <tr>\n",
       "      <th>Adidas ORIGINALS</th>\n",
       "      <td>908</td>\n",
       "      <td>8916992</td>\n",
       "      <td>6185692</td>\n",
       "    </tr>\n",
       "    <tr>\n",
       "      <th>Adidas SPORT PERFORMANCE</th>\n",
       "      <td>606</td>\n",
       "      <td>5534094</td>\n",
       "      <td>3831582</td>\n",
       "    </tr>\n",
       "    <tr>\n",
       "      <th>Nike</th>\n",
       "      <td>643</td>\n",
       "      <td>2492115</td>\n",
       "      <td>6567394</td>\n",
       "    </tr>\n",
       "  </tbody>\n",
       "</table>\n",
       "</div>"
      ],
      "text/plain": [
       "                          Quant_Prod  Preco_Total  Total_Vendas\n",
       "Brand                                                          \n",
       "Adidas CORE / NEO               1111      5501489       3462112\n",
       "Adidas ORIGINALS                 908      8916992       6185692\n",
       "Adidas SPORT PERFORMANCE         606      5534094       3831582\n",
       "Nike                             643      2492115       6567394"
      ]
     },
     "execution_count": 14,
     "metadata": {},
     "output_type": "execute_result"
    }
   ],
   "source": [
    "dados.groupby('Brand').agg(\n",
    "    Quant_Prod = ('Product ID','count'),\n",
    "    Preco_Total = ('Listing Price','sum'),\n",
    "    Total_Vendas = ('Sale Price','sum')\n",
    ")"
   ]
  },
  {
   "cell_type": "code",
   "execution_count": 15,
   "metadata": {},
   "outputs": [
    {
     "data": {
      "text/plain": [
       "<AxesSubplot:xlabel='Valores', ylabel='Brand'>"
      ]
     },
     "execution_count": 15,
     "metadata": {},
     "output_type": "execute_result"
    },
    {
     "data": {
      "image/png": "[encoded data removed]",
      "text/plain": [
       "<Figure size 432x288 with 1 Axes>"
      ]
     },
     "metadata": {
      "needs_background": "light"
     },
     "output_type": "display_data"
    }
   ],
   "source": [
    "f1 = dados.groupby('Brand').agg(\n",
    "    Quant_Prod = ('Product ID','count'),\n",
    "    Preco_Total = ('Listing Price','sum'),\n",
    "    Total_Vendas = ('Sale Price','sum')\n",
    "    ).reset_index()\n",
    "\n",
    "### transformado a base de dados\n",
    "f1_long = f1.melt(id_vars= 'Brand', var_name='Metricas',value_vars=['Preco_Total','Total_Vendas' ],value_name='Valores')\n",
    "\n",
    "#### Minha paleta de cores\n",
    "minha_paleta=['#313B44', '#E62B15', '#8B4944', '#606467', '#AAABAD','#1C1D22']\n",
    "sns.set_palette(minha_paleta)\n",
    "\n",
    "### representação gráfica\n",
    "sns.barplot(\n",
    "    data=f1_long,\n",
    "    x= 'Valores',\n",
    "    y='Brand',\n",
    "    hue='Metricas',)\n"
   ]
  },
  {
   "cell_type": "markdown",
   "metadata": {},
   "source": [
    "-------\n",
    "Podemos identificar um problema entre o valor dos produtos tabelados e o valor de venda.\n",
    "\n",
    "- Existe uma diferença entre os valores tabeledos e os produtos vendidos pela empresa NIKE. \n",
    "- Podemos considerar que possivelmente os valores de descontos podem esta errados. Existe a necessidade de recalcular e comprar.\n",
    "-----\n"
   ]
  },
  {
   "cell_type": "code",
   "execution_count": 16,
   "metadata": {},
   "outputs": [
    {
     "data": {
      "text/html": [
       "<div>\n",
       "<style scoped>\n",
       "    .dataframe tbody tr th:only-of-type {\n",
       "        vertical-align: middle;\n",
       "    }\n",
       "\n",
       "    .dataframe tbody tr th {\n",
       "        vertical-align: top;\n",
       "    }\n",
       "\n",
       "    .dataframe thead th {\n",
       "        text-align: right;\n",
       "    }\n",
       "</style>\n",
       "<table border=\"1\" class=\"dataframe\">\n",
       "  <thead>\n",
       "    <tr style=\"text-align: right;\">\n",
       "      <th></th>\n",
       "      <th>Quant_Prod</th>\n",
       "      <th>Media_descontos</th>\n",
       "      <th>Media_avaliacoes</th>\n",
       "      <th>Quand_visualizacoes</th>\n",
       "    </tr>\n",
       "    <tr>\n",
       "      <th>Brand</th>\n",
       "      <th></th>\n",
       "      <th></th>\n",
       "      <th></th>\n",
       "      <th></th>\n",
       "    </tr>\n",
       "  </thead>\n",
       "  <tbody>\n",
       "    <tr>\n",
       "      <th>Adidas CORE / NEO</th>\n",
       "      <td>1111</td>\n",
       "      <td>36.300630</td>\n",
       "      <td>3.412331</td>\n",
       "      <td>53556</td>\n",
       "    </tr>\n",
       "    <tr>\n",
       "      <th>Adidas ORIGINALS</th>\n",
       "      <td>908</td>\n",
       "      <td>31.134361</td>\n",
       "      <td>3.323568</td>\n",
       "      <td>44744</td>\n",
       "    </tr>\n",
       "    <tr>\n",
       "      <th>Adidas SPORT PERFORMANCE</th>\n",
       "      <td>606</td>\n",
       "      <td>31.732673</td>\n",
       "      <td>3.346205</td>\n",
       "      <td>29605</td>\n",
       "    </tr>\n",
       "    <tr>\n",
       "      <th>Nike</th>\n",
       "      <td>643</td>\n",
       "      <td>0.000000</td>\n",
       "      <td>2.734837</td>\n",
       "      <td>4618</td>\n",
       "    </tr>\n",
       "  </tbody>\n",
       "</table>\n",
       "</div>"
      ],
      "text/plain": [
       "                          Quant_Prod  Media_descontos  Media_avaliacoes  \\\n",
       "Brand                                                                     \n",
       "Adidas CORE / NEO               1111        36.300630          3.412331   \n",
       "Adidas ORIGINALS                 908        31.134361          3.323568   \n",
       "Adidas SPORT PERFORMANCE         606        31.732673          3.346205   \n",
       "Nike                             643         0.000000          2.734837   \n",
       "\n",
       "                          Quand_visualizacoes  \n",
       "Brand                                          \n",
       "Adidas CORE / NEO                       53556  \n",
       "Adidas ORIGINALS                        44744  \n",
       "Adidas SPORT PERFORMANCE                29605  \n",
       "Nike                                     4618  "
      ]
     },
     "execution_count": 16,
     "metadata": {},
     "output_type": "execute_result"
    }
   ],
   "source": [
    "dados.groupby('Brand').agg(\n",
    "    Quant_Prod = ('Product ID','count'),\n",
    "    Media_descontos = ('Discount','mean'),\n",
    "    Media_avaliacoes = ('Rating','mean'),\n",
    "    Quand_visualizacoes = ('Reviews','sum')\n",
    ")"
   ]
  },
  {
   "cell_type": "code",
   "execution_count": 17,
   "metadata": {},
   "outputs": [
    {
     "data": {
      "text/plain": [
       "<seaborn.axisgrid.FacetGrid at 0x27aa68a4940>"
      ]
     },
     "execution_count": 17,
     "metadata": {},
     "output_type": "execute_result"
    },
    {
     "data": {
      "image/png": "[encoded data removed]",
      "text/plain": [
       "<Figure size 864x216 with 4 Axes>"
      ]
     },
     "metadata": {
      "needs_background": "light"
     },
     "output_type": "display_data"
    }
   ],
   "source": [
    "g = sns.FacetGrid(dados, col=\"Brand\")  # Divide os gráficos\n",
    "g.map(sns.countplot, \"Discount\",order=[0,10,20,30,40,50,60])"
   ]
  },
  {
   "cell_type": "code",
   "execution_count": 18,
   "metadata": {},
   "outputs": [
    {
     "data": {
      "text/plain": [
       "<seaborn.axisgrid.FacetGrid at 0x27aa7275f10>"
      ]
     },
     "execution_count": 18,
     "metadata": {},
     "output_type": "execute_result"
    },
    {
     "data": {
      "image/png": "[encoded data removed]",
      "text/plain": [
       "<Figure size 864x216 with 4 Axes>"
      ]
     },
     "metadata": {
      "needs_background": "light"
     },
     "output_type": "display_data"
    }
   ],
   "source": [
    "g = sns.FacetGrid(dados, col=\"Brand\")  # Divide os gráficos\n",
    "g.map(sns.histplot, \"Rating\", kde=True)  "
   ]
  },
  {
   "cell_type": "markdown",
   "metadata": {},
   "source": [
    "### Conhecer a distruição do dados"
   ]
  },
  {
   "cell_type": "code",
   "execution_count": 19,
   "metadata": {},
   "outputs": [
    {
     "data": {
      "text/plain": [
       "<AxesSubplot:xlabel='Discount', ylabel='Count'>"
      ]
     },
     "execution_count": 19,
     "metadata": {},
     "output_type": "execute_result"
    },
    {
     "data": {
      "image/png": "[encoded data removed]",
      "text/plain": [
       "<Figure size 432x288 with 1 Axes>"
      ]
     },
     "metadata": {
      "needs_background": "light"
     },
     "output_type": "display_data"
    }
   ],
   "source": [
    "sns.histplot(\n",
    "    data=dados,\n",
    "    x='Discount',\n",
    "    #kind='count'\n",
    "    hue='Discount',\n",
    "    kde= True ## função para adicionar a linha do histograma\n",
    ")"
   ]
  },
  {
   "cell_type": "code",
   "execution_count": 20,
   "metadata": {},
   "outputs": [
    {
     "data": {
      "text/plain": [
       "Index(['Product Name', 'Product ID', 'Listing Price', 'Sale Price', 'Discount',\n",
       "       'Brand', 'Description', 'Rating', 'Reviews', 'Last Visited'],\n",
       "      dtype='object')"
      ]
     },
     "execution_count": 20,
     "metadata": {},
     "output_type": "execute_result"
    }
   ],
   "source": [
    "dados.columns"
   ]
  },
  {
   "cell_type": "code",
   "execution_count": 21,
   "metadata": {},
   "outputs": [],
   "source": [
    "dados['New_listing_price'] = [vendas if price <= vendas else price\n",
    "                              for price, vendas in zip(dados['Listing Price'],dados['Sale Price'])]"
   ]
  },
  {
   "cell_type": "code",
   "execution_count": 22,
   "metadata": {},
   "outputs": [
    {
     "data": {
      "text/html": [
       "<div>\n",
       "<style scoped>\n",
       "    .dataframe tbody tr th:only-of-type {\n",
       "        vertical-align: middle;\n",
       "    }\n",
       "\n",
       "    .dataframe tbody tr th {\n",
       "        vertical-align: top;\n",
       "    }\n",
       "\n",
       "    .dataframe thead th {\n",
       "        text-align: right;\n",
       "    }\n",
       "</style>\n",
       "<table border=\"1\" class=\"dataframe\">\n",
       "  <thead>\n",
       "    <tr style=\"text-align: right;\">\n",
       "      <th></th>\n",
       "      <th>Product Name</th>\n",
       "      <th>Product ID</th>\n",
       "      <th>Listing Price</th>\n",
       "      <th>Sale Price</th>\n",
       "      <th>Discount</th>\n",
       "      <th>Brand</th>\n",
       "      <th>Description</th>\n",
       "      <th>Rating</th>\n",
       "      <th>Reviews</th>\n",
       "      <th>Last Visited</th>\n",
       "      <th>New_listing_price</th>\n",
       "    </tr>\n",
       "  </thead>\n",
       "  <tbody>\n",
       "    <tr>\n",
       "      <th>2625</th>\n",
       "      <td>Nike Air Force 1 '07 Essential</td>\n",
       "      <td>CJ1646-600</td>\n",
       "      <td>0</td>\n",
       "      <td>7495</td>\n",
       "      <td>0</td>\n",
       "      <td>Nike</td>\n",
       "      <td>Let your shoe game shimmer in the Nike Air For...</td>\n",
       "      <td>0.0</td>\n",
       "      <td>0</td>\n",
       "      <td>2020-04-13T15:27:56</td>\n",
       "      <td>7495</td>\n",
       "    </tr>\n",
       "    <tr>\n",
       "      <th>2626</th>\n",
       "      <td>Nike Air Force 1 '07</td>\n",
       "      <td>CT4328-101</td>\n",
       "      <td>0</td>\n",
       "      <td>7495</td>\n",
       "      <td>0</td>\n",
       "      <td>Nike</td>\n",
       "      <td>The legend lives on in the Nike Air Force 1 '0...</td>\n",
       "      <td>0.0</td>\n",
       "      <td>0</td>\n",
       "      <td>2020-04-13T15:27:56</td>\n",
       "      <td>7495</td>\n",
       "    </tr>\n",
       "    <tr>\n",
       "      <th>2627</th>\n",
       "      <td>Nike Air Force 1 Sage Low LX</td>\n",
       "      <td>CI3482-200</td>\n",
       "      <td>0</td>\n",
       "      <td>9995</td>\n",
       "      <td>0</td>\n",
       "      <td>Nike</td>\n",
       "      <td>Taking both height and craft to new levels, th...</td>\n",
       "      <td>0.0</td>\n",
       "      <td>0</td>\n",
       "      <td>2020-04-13T15:27:56</td>\n",
       "      <td>9995</td>\n",
       "    </tr>\n",
       "    <tr>\n",
       "      <th>2628</th>\n",
       "      <td>Nike Air Max Dia SE</td>\n",
       "      <td>CD0479-200</td>\n",
       "      <td>0</td>\n",
       "      <td>9995</td>\n",
       "      <td>0</td>\n",
       "      <td>Nike</td>\n",
       "      <td>Designed for a woman's foot, the Nike Air Max ...</td>\n",
       "      <td>0.0</td>\n",
       "      <td>0</td>\n",
       "      <td>2020-04-13T15:27:57</td>\n",
       "      <td>9995</td>\n",
       "    </tr>\n",
       "    <tr>\n",
       "      <th>2629</th>\n",
       "      <td>Nike Air Max Verona</td>\n",
       "      <td>CZ6156-101</td>\n",
       "      <td>0</td>\n",
       "      <td>9995</td>\n",
       "      <td>0</td>\n",
       "      <td>Nike</td>\n",
       "      <td>Pass on the good vibes in the Nike Air Max Ver...</td>\n",
       "      <td>0.0</td>\n",
       "      <td>0</td>\n",
       "      <td>2020-04-13T15:27:57</td>\n",
       "      <td>9995</td>\n",
       "    </tr>\n",
       "  </tbody>\n",
       "</table>\n",
       "</div>"
      ],
      "text/plain": [
       "                        Product Name  Product ID  Listing Price  Sale Price  \\\n",
       "2625  Nike Air Force 1 '07 Essential  CJ1646-600              0        7495   \n",
       "2626            Nike Air Force 1 '07  CT4328-101              0        7495   \n",
       "2627    Nike Air Force 1 Sage Low LX  CI3482-200              0        9995   \n",
       "2628             Nike Air Max Dia SE  CD0479-200              0        9995   \n",
       "2629             Nike Air Max Verona  CZ6156-101              0        9995   \n",
       "\n",
       "      Discount Brand                                        Description  \\\n",
       "2625         0  Nike  Let your shoe game shimmer in the Nike Air For...   \n",
       "2626         0  Nike  The legend lives on in the Nike Air Force 1 '0...   \n",
       "2627         0  Nike  Taking both height and craft to new levels, th...   \n",
       "2628         0  Nike  Designed for a woman's foot, the Nike Air Max ...   \n",
       "2629         0  Nike  Pass on the good vibes in the Nike Air Max Ver...   \n",
       "\n",
       "      Rating  Reviews         Last Visited  New_listing_price  \n",
       "2625     0.0        0  2020-04-13T15:27:56               7495  \n",
       "2626     0.0        0  2020-04-13T15:27:56               7495  \n",
       "2627     0.0        0  2020-04-13T15:27:56               9995  \n",
       "2628     0.0        0  2020-04-13T15:27:57               9995  \n",
       "2629     0.0        0  2020-04-13T15:27:57               9995  "
      ]
     },
     "execution_count": 22,
     "metadata": {},
     "output_type": "execute_result"
    }
   ],
   "source": [
    "dados[dados['Brand']=='Nike'].head(5)"
   ]
  },
  {
   "cell_type": "code",
   "execution_count": 23,
   "metadata": {},
   "outputs": [],
   "source": [
    "dados['New_discount'] = [ (1-(preco/vendas))*100 for preco, vendas in zip(dados['Sale Price'], dados['New_listing_price'])]"
   ]
  },
  {
   "cell_type": "code",
   "execution_count": 24,
   "metadata": {},
   "outputs": [
    {
     "data": {
      "text/html": [
       "<div>\n",
       "<style scoped>\n",
       "    .dataframe tbody tr th:only-of-type {\n",
       "        vertical-align: middle;\n",
       "    }\n",
       "\n",
       "    .dataframe tbody tr th {\n",
       "        vertical-align: top;\n",
       "    }\n",
       "\n",
       "    .dataframe thead th {\n",
       "        text-align: right;\n",
       "    }\n",
       "</style>\n",
       "<table border=\"1\" class=\"dataframe\">\n",
       "  <thead>\n",
       "    <tr style=\"text-align: right;\">\n",
       "      <th></th>\n",
       "      <th>Product Name</th>\n",
       "      <th>Product ID</th>\n",
       "      <th>Listing Price</th>\n",
       "      <th>Sale Price</th>\n",
       "      <th>Discount</th>\n",
       "      <th>Brand</th>\n",
       "      <th>Description</th>\n",
       "      <th>Rating</th>\n",
       "      <th>Reviews</th>\n",
       "      <th>Last Visited</th>\n",
       "      <th>New_listing_price</th>\n",
       "      <th>New_discount</th>\n",
       "    </tr>\n",
       "  </thead>\n",
       "  <tbody>\n",
       "    <tr>\n",
       "      <th>0</th>\n",
       "      <td>Women's adidas Originals NMD_Racer Primeknit S...</td>\n",
       "      <td>AH2430</td>\n",
       "      <td>14999</td>\n",
       "      <td>7499</td>\n",
       "      <td>50</td>\n",
       "      <td>Adidas ORIGINALS</td>\n",
       "      <td>Channeling the streamlined look of an '80s rac...</td>\n",
       "      <td>4.8</td>\n",
       "      <td>41</td>\n",
       "      <td>2020-04-13T15:06:14</td>\n",
       "      <td>14999</td>\n",
       "      <td>50.003334</td>\n",
       "    </tr>\n",
       "    <tr>\n",
       "      <th>1</th>\n",
       "      <td>Women's adidas Originals Sleek Shoes</td>\n",
       "      <td>G27341</td>\n",
       "      <td>7599</td>\n",
       "      <td>3799</td>\n",
       "      <td>50</td>\n",
       "      <td>Adidas ORIGINALS</td>\n",
       "      <td>A modern take on adidas sport heritage, tailor...</td>\n",
       "      <td>3.3</td>\n",
       "      <td>24</td>\n",
       "      <td>2020-04-13T15:06:15</td>\n",
       "      <td>7599</td>\n",
       "      <td>50.006580</td>\n",
       "    </tr>\n",
       "    <tr>\n",
       "      <th>2</th>\n",
       "      <td>Women's adidas Swim Puka Slippers</td>\n",
       "      <td>CM0081</td>\n",
       "      <td>999</td>\n",
       "      <td>599</td>\n",
       "      <td>40</td>\n",
       "      <td>Adidas CORE / NEO</td>\n",
       "      <td>These adidas Puka slippers for women's come wi...</td>\n",
       "      <td>2.6</td>\n",
       "      <td>37</td>\n",
       "      <td>2020-04-13T15:06:15</td>\n",
       "      <td>999</td>\n",
       "      <td>40.040040</td>\n",
       "    </tr>\n",
       "    <tr>\n",
       "      <th>3</th>\n",
       "      <td>Women's adidas Sport Inspired Questar Ride Shoes</td>\n",
       "      <td>B44832</td>\n",
       "      <td>6999</td>\n",
       "      <td>3499</td>\n",
       "      <td>50</td>\n",
       "      <td>Adidas CORE / NEO</td>\n",
       "      <td>Inspired by modern tech runners, these women's...</td>\n",
       "      <td>4.1</td>\n",
       "      <td>35</td>\n",
       "      <td>2020-04-13T15:06:15</td>\n",
       "      <td>6999</td>\n",
       "      <td>50.007144</td>\n",
       "    </tr>\n",
       "    <tr>\n",
       "      <th>4</th>\n",
       "      <td>Women's adidas Originals Taekwondo Shoes</td>\n",
       "      <td>D98205</td>\n",
       "      <td>7999</td>\n",
       "      <td>3999</td>\n",
       "      <td>50</td>\n",
       "      <td>Adidas ORIGINALS</td>\n",
       "      <td>This design is inspired by vintage Taekwondo s...</td>\n",
       "      <td>3.5</td>\n",
       "      <td>72</td>\n",
       "      <td>2020-04-13T15:06:15</td>\n",
       "      <td>7999</td>\n",
       "      <td>50.006251</td>\n",
       "    </tr>\n",
       "  </tbody>\n",
       "</table>\n",
       "</div>"
      ],
      "text/plain": [
       "                                        Product Name Product ID  \\\n",
       "0  Women's adidas Originals NMD_Racer Primeknit S...     AH2430   \n",
       "1               Women's adidas Originals Sleek Shoes     G27341   \n",
       "2                  Women's adidas Swim Puka Slippers     CM0081   \n",
       "3   Women's adidas Sport Inspired Questar Ride Shoes     B44832   \n",
       "4           Women's adidas Originals Taekwondo Shoes     D98205   \n",
       "\n",
       "   Listing Price  Sale Price  Discount              Brand  \\\n",
       "0          14999        7499        50   Adidas ORIGINALS   \n",
       "1           7599        3799        50   Adidas ORIGINALS   \n",
       "2            999         599        40  Adidas CORE / NEO   \n",
       "3           6999        3499        50  Adidas CORE / NEO   \n",
       "4           7999        3999        50   Adidas ORIGINALS   \n",
       "\n",
       "                                         Description  Rating  Reviews  \\\n",
       "0  Channeling the streamlined look of an '80s rac...     4.8       41   \n",
       "1  A modern take on adidas sport heritage, tailor...     3.3       24   \n",
       "2  These adidas Puka slippers for women's come wi...     2.6       37   \n",
       "3  Inspired by modern tech runners, these women's...     4.1       35   \n",
       "4  This design is inspired by vintage Taekwondo s...     3.5       72   \n",
       "\n",
       "          Last Visited  New_listing_price  New_discount  \n",
       "0  2020-04-13T15:06:14              14999     50.003334  \n",
       "1  2020-04-13T15:06:15               7599     50.006580  \n",
       "2  2020-04-13T15:06:15                999     40.040040  \n",
       "3  2020-04-13T15:06:15               6999     50.007144  \n",
       "4  2020-04-13T15:06:15               7999     50.006251  "
      ]
     },
     "execution_count": 24,
     "metadata": {},
     "output_type": "execute_result"
    }
   ],
   "source": [
    "dados.head(5)"
   ]
  },
  {
   "cell_type": "code",
   "execution_count": 25,
   "metadata": {},
   "outputs": [],
   "source": [
    "dados['New_brand'] = [ 'Nike' if marca in 'Nike' else 'Adidas'  for marca in dados['Brand']]"
   ]
  },
  {
   "cell_type": "code",
   "execution_count": 26,
   "metadata": {},
   "outputs": [],
   "source": [
    "dados.columns\n",
    "col_numeric = ['Rating', 'Reviews', 'Last Visited','New_listing_price', 'Sale Price', 'New_discount', 'New_brand']"
   ]
  },
  {
   "cell_type": "code",
   "execution_count": 27,
   "metadata": {},
   "outputs": [
    {
     "data": {
      "text/plain": [
       "<seaborn.axisgrid.PairGrid at 0x27aa7944b80>"
      ]
     },
     "execution_count": 27,
     "metadata": {},
     "output_type": "execute_result"
    },
    {
     "data": {
      "image/png": "[encoded data removed]",
      "text/plain": [
       "<Figure size 969.75x900 with 30 Axes>"
      ]
     },
     "metadata": {
      "needs_background": "light"
     },
     "output_type": "display_data"
    }
   ],
   "source": [
    "sns.pairplot(\n",
    "    data= dados[col_numeric],\n",
    "    hue = 'New_brand'\n",
    "    )"
   ]
  },
  {
   "cell_type": "markdown",
   "metadata": {},
   "source": [
    "# Analise de textos"
   ]
  },
  {
   "cell_type": "markdown",
   "metadata": {},
   "source": [
    "O objetivo é extrair um padrão da descrição do nome dos produtos"
   ]
  },
  {
   "cell_type": "markdown",
   "metadata": {},
   "source": [
    "## Padronização do texto"
   ]
  },
  {
   "cell_type": "code",
   "execution_count": 28,
   "metadata": {},
   "outputs": [],
   "source": [
    "dados['Product Name'] = dados['Product Name'].apply(lambda nome: nome.upper() )"
   ]
  },
  {
   "cell_type": "code",
   "execution_count": 29,
   "metadata": {},
   "outputs": [
    {
     "data": {
      "text/html": [
       "<div>\n",
       "<style scoped>\n",
       "    .dataframe tbody tr th:only-of-type {\n",
       "        vertical-align: middle;\n",
       "    }\n",
       "\n",
       "    .dataframe tbody tr th {\n",
       "        vertical-align: top;\n",
       "    }\n",
       "\n",
       "    .dataframe thead th {\n",
       "        text-align: right;\n",
       "    }\n",
       "</style>\n",
       "<table border=\"1\" class=\"dataframe\">\n",
       "  <thead>\n",
       "    <tr style=\"text-align: right;\">\n",
       "      <th></th>\n",
       "      <th>Product Name</th>\n",
       "      <th>Product ID</th>\n",
       "      <th>Listing Price</th>\n",
       "      <th>Sale Price</th>\n",
       "      <th>Discount</th>\n",
       "      <th>Brand</th>\n",
       "      <th>Description</th>\n",
       "      <th>Rating</th>\n",
       "      <th>Reviews</th>\n",
       "      <th>Last Visited</th>\n",
       "      <th>New_listing_price</th>\n",
       "      <th>New_discount</th>\n",
       "      <th>New_brand</th>\n",
       "    </tr>\n",
       "  </thead>\n",
       "  <tbody>\n",
       "    <tr>\n",
       "      <th>0</th>\n",
       "      <td>WOMEN'S ADIDAS ORIGINALS NMD_RACER PRIMEKNIT S...</td>\n",
       "      <td>AH2430</td>\n",
       "      <td>14999</td>\n",
       "      <td>7499</td>\n",
       "      <td>50</td>\n",
       "      <td>Adidas ORIGINALS</td>\n",
       "      <td>Channeling the streamlined look of an '80s rac...</td>\n",
       "      <td>4.8</td>\n",
       "      <td>41</td>\n",
       "      <td>2020-04-13T15:06:14</td>\n",
       "      <td>14999</td>\n",
       "      <td>50.003334</td>\n",
       "      <td>Adidas</td>\n",
       "    </tr>\n",
       "    <tr>\n",
       "      <th>1</th>\n",
       "      <td>WOMEN'S ADIDAS ORIGINALS SLEEK SHOES</td>\n",
       "      <td>G27341</td>\n",
       "      <td>7599</td>\n",
       "      <td>3799</td>\n",
       "      <td>50</td>\n",
       "      <td>Adidas ORIGINALS</td>\n",
       "      <td>A modern take on adidas sport heritage, tailor...</td>\n",
       "      <td>3.3</td>\n",
       "      <td>24</td>\n",
       "      <td>2020-04-13T15:06:15</td>\n",
       "      <td>7599</td>\n",
       "      <td>50.006580</td>\n",
       "      <td>Adidas</td>\n",
       "    </tr>\n",
       "    <tr>\n",
       "      <th>2</th>\n",
       "      <td>WOMEN'S ADIDAS SWIM PUKA SLIPPERS</td>\n",
       "      <td>CM0081</td>\n",
       "      <td>999</td>\n",
       "      <td>599</td>\n",
       "      <td>40</td>\n",
       "      <td>Adidas CORE / NEO</td>\n",
       "      <td>These adidas Puka slippers for women's come wi...</td>\n",
       "      <td>2.6</td>\n",
       "      <td>37</td>\n",
       "      <td>2020-04-13T15:06:15</td>\n",
       "      <td>999</td>\n",
       "      <td>40.040040</td>\n",
       "      <td>Adidas</td>\n",
       "    </tr>\n",
       "  </tbody>\n",
       "</table>\n",
       "</div>"
      ],
      "text/plain": [
       "                                        Product Name Product ID  \\\n",
       "0  WOMEN'S ADIDAS ORIGINALS NMD_RACER PRIMEKNIT S...     AH2430   \n",
       "1               WOMEN'S ADIDAS ORIGINALS SLEEK SHOES     G27341   \n",
       "2                  WOMEN'S ADIDAS SWIM PUKA SLIPPERS     CM0081   \n",
       "\n",
       "   Listing Price  Sale Price  Discount              Brand  \\\n",
       "0          14999        7499        50   Adidas ORIGINALS   \n",
       "1           7599        3799        50   Adidas ORIGINALS   \n",
       "2            999         599        40  Adidas CORE / NEO   \n",
       "\n",
       "                                         Description  Rating  Reviews  \\\n",
       "0  Channeling the streamlined look of an '80s rac...     4.8       41   \n",
       "1  A modern take on adidas sport heritage, tailor...     3.3       24   \n",
       "2  These adidas Puka slippers for women's come wi...     2.6       37   \n",
       "\n",
       "          Last Visited  New_listing_price  New_discount New_brand  \n",
       "0  2020-04-13T15:06:14              14999     50.003334    Adidas  \n",
       "1  2020-04-13T15:06:15               7599     50.006580    Adidas  \n",
       "2  2020-04-13T15:06:15                999     40.040040    Adidas  "
      ]
     },
     "execution_count": 29,
     "metadata": {},
     "output_type": "execute_result"
    }
   ],
   "source": [
    "dados.head(3)"
   ]
  },
  {
   "cell_type": "code",
   "execution_count": 30,
   "metadata": {},
   "outputs": [],
   "source": [
    "dados['Product Name'] = dados['Product Name'].apply(lambda nome: re.sub(r\"[^a-zA-Z0-9\\s]\",'', nome ))"
   ]
  },
  {
   "cell_type": "code",
   "execution_count": 31,
   "metadata": {},
   "outputs": [
    {
     "data": {
      "text/html": [
       "<div>\n",
       "<style scoped>\n",
       "    .dataframe tbody tr th:only-of-type {\n",
       "        vertical-align: middle;\n",
       "    }\n",
       "\n",
       "    .dataframe tbody tr th {\n",
       "        vertical-align: top;\n",
       "    }\n",
       "\n",
       "    .dataframe thead th {\n",
       "        text-align: right;\n",
       "    }\n",
       "</style>\n",
       "<table border=\"1\" class=\"dataframe\">\n",
       "  <thead>\n",
       "    <tr style=\"text-align: right;\">\n",
       "      <th></th>\n",
       "      <th>Product Name</th>\n",
       "      <th>Product ID</th>\n",
       "      <th>Listing Price</th>\n",
       "      <th>Sale Price</th>\n",
       "      <th>Discount</th>\n",
       "      <th>Brand</th>\n",
       "      <th>Description</th>\n",
       "      <th>Rating</th>\n",
       "      <th>Reviews</th>\n",
       "      <th>Last Visited</th>\n",
       "      <th>New_listing_price</th>\n",
       "      <th>New_discount</th>\n",
       "      <th>New_brand</th>\n",
       "    </tr>\n",
       "  </thead>\n",
       "  <tbody>\n",
       "    <tr>\n",
       "      <th>0</th>\n",
       "      <td>WOMENS ADIDAS ORIGINALS NMDRACER PRIMEKNIT SHOES</td>\n",
       "      <td>AH2430</td>\n",
       "      <td>14999</td>\n",
       "      <td>7499</td>\n",
       "      <td>50</td>\n",
       "      <td>Adidas ORIGINALS</td>\n",
       "      <td>Channeling the streamlined look of an '80s rac...</td>\n",
       "      <td>4.8</td>\n",
       "      <td>41</td>\n",
       "      <td>2020-04-13T15:06:14</td>\n",
       "      <td>14999</td>\n",
       "      <td>50.003334</td>\n",
       "      <td>Adidas</td>\n",
       "    </tr>\n",
       "    <tr>\n",
       "      <th>1</th>\n",
       "      <td>WOMENS ADIDAS ORIGINALS SLEEK SHOES</td>\n",
       "      <td>G27341</td>\n",
       "      <td>7599</td>\n",
       "      <td>3799</td>\n",
       "      <td>50</td>\n",
       "      <td>Adidas ORIGINALS</td>\n",
       "      <td>A modern take on adidas sport heritage, tailor...</td>\n",
       "      <td>3.3</td>\n",
       "      <td>24</td>\n",
       "      <td>2020-04-13T15:06:15</td>\n",
       "      <td>7599</td>\n",
       "      <td>50.006580</td>\n",
       "      <td>Adidas</td>\n",
       "    </tr>\n",
       "    <tr>\n",
       "      <th>2</th>\n",
       "      <td>WOMENS ADIDAS SWIM PUKA SLIPPERS</td>\n",
       "      <td>CM0081</td>\n",
       "      <td>999</td>\n",
       "      <td>599</td>\n",
       "      <td>40</td>\n",
       "      <td>Adidas CORE / NEO</td>\n",
       "      <td>These adidas Puka slippers for women's come wi...</td>\n",
       "      <td>2.6</td>\n",
       "      <td>37</td>\n",
       "      <td>2020-04-13T15:06:15</td>\n",
       "      <td>999</td>\n",
       "      <td>40.040040</td>\n",
       "      <td>Adidas</td>\n",
       "    </tr>\n",
       "    <tr>\n",
       "      <th>3</th>\n",
       "      <td>WOMENS ADIDAS SPORT INSPIRED QUESTAR RIDE SHOES</td>\n",
       "      <td>B44832</td>\n",
       "      <td>6999</td>\n",
       "      <td>3499</td>\n",
       "      <td>50</td>\n",
       "      <td>Adidas CORE / NEO</td>\n",
       "      <td>Inspired by modern tech runners, these women's...</td>\n",
       "      <td>4.1</td>\n",
       "      <td>35</td>\n",
       "      <td>2020-04-13T15:06:15</td>\n",
       "      <td>6999</td>\n",
       "      <td>50.007144</td>\n",
       "      <td>Adidas</td>\n",
       "    </tr>\n",
       "    <tr>\n",
       "      <th>4</th>\n",
       "      <td>WOMENS ADIDAS ORIGINALS TAEKWONDO SHOES</td>\n",
       "      <td>D98205</td>\n",
       "      <td>7999</td>\n",
       "      <td>3999</td>\n",
       "      <td>50</td>\n",
       "      <td>Adidas ORIGINALS</td>\n",
       "      <td>This design is inspired by vintage Taekwondo s...</td>\n",
       "      <td>3.5</td>\n",
       "      <td>72</td>\n",
       "      <td>2020-04-13T15:06:15</td>\n",
       "      <td>7999</td>\n",
       "      <td>50.006251</td>\n",
       "      <td>Adidas</td>\n",
       "    </tr>\n",
       "  </tbody>\n",
       "</table>\n",
       "</div>"
      ],
      "text/plain": [
       "                                       Product Name Product ID  Listing Price  \\\n",
       "0  WOMENS ADIDAS ORIGINALS NMDRACER PRIMEKNIT SHOES     AH2430          14999   \n",
       "1               WOMENS ADIDAS ORIGINALS SLEEK SHOES     G27341           7599   \n",
       "2                  WOMENS ADIDAS SWIM PUKA SLIPPERS     CM0081            999   \n",
       "3   WOMENS ADIDAS SPORT INSPIRED QUESTAR RIDE SHOES     B44832           6999   \n",
       "4           WOMENS ADIDAS ORIGINALS TAEKWONDO SHOES     D98205           7999   \n",
       "\n",
       "   Sale Price  Discount              Brand  \\\n",
       "0        7499        50   Adidas ORIGINALS   \n",
       "1        3799        50   Adidas ORIGINALS   \n",
       "2         599        40  Adidas CORE / NEO   \n",
       "3        3499        50  Adidas CORE / NEO   \n",
       "4        3999        50   Adidas ORIGINALS   \n",
       "\n",
       "                                         Description  Rating  Reviews  \\\n",
       "0  Channeling the streamlined look of an '80s rac...     4.8       41   \n",
       "1  A modern take on adidas sport heritage, tailor...     3.3       24   \n",
       "2  These adidas Puka slippers for women's come wi...     2.6       37   \n",
       "3  Inspired by modern tech runners, these women's...     4.1       35   \n",
       "4  This design is inspired by vintage Taekwondo s...     3.5       72   \n",
       "\n",
       "          Last Visited  New_listing_price  New_discount New_brand  \n",
       "0  2020-04-13T15:06:14              14999     50.003334    Adidas  \n",
       "1  2020-04-13T15:06:15               7599     50.006580    Adidas  \n",
       "2  2020-04-13T15:06:15                999     40.040040    Adidas  \n",
       "3  2020-04-13T15:06:15               6999     50.007144    Adidas  \n",
       "4  2020-04-13T15:06:15               7999     50.006251    Adidas  "
      ]
     },
     "execution_count": 31,
     "metadata": {},
     "output_type": "execute_result"
    }
   ],
   "source": [
    "dados.head()"
   ]
  },
  {
   "cell_type": "markdown",
   "metadata": {},
   "source": [
    "------\n",
    "Definindo os padrões a serem extraidos do nome dos produtos \n",
    "\n",
    "------"
   ]
  },
  {
   "cell_type": "code",
   "execution_count": 32,
   "metadata": {},
   "outputs": [
    {
     "data": {
      "text/plain": [
       "array(['Adidas ORIGINALS', 'Adidas CORE / NEO',\n",
       "       'Adidas SPORT PERFORMANCE', 'Nike'], dtype=object)"
      ]
     },
     "execution_count": 32,
     "metadata": {},
     "output_type": "execute_result"
    }
   ],
   "source": [
    "dados['Brand'].unique()"
   ]
  },
  {
   "cell_type": "markdown",
   "metadata": {},
   "source": [
    "-----\n",
    "São 4 marcas.  \n",
    "Objetivo: pegar 10 exemplos aleatórios de cada marca para definir um padrão.\n",
    "\n",
    "-----"
   ]
  },
  {
   "cell_type": "code",
   "execution_count": 33,
   "metadata": {},
   "outputs": [],
   "source": [
    "### função para escolha aleatória de dados\n",
    "import random as rd\n"
   ]
  },
  {
   "cell_type": "code",
   "execution_count": 34,
   "metadata": {},
   "outputs": [
    {
     "data": {
      "text/plain": [
       "72                  MENS ADIDAS OUTDOOR ELEVATE SANDALS\n",
       "84                    MENS ADIDAS RUNNING EDGE PR SHOES\n",
       "87                   MENS ADIDAS OUTDOOR ANDORIAN SHOES\n",
       "93           MENS ADIDAS RUNNING PUREBOUNCE CLIMA SHOES\n",
       "102             MENS ADIDAS OUTDOOR TERRA LIGHT SANDALS\n",
       "                             ...                       \n",
       "2620               MENS ADIDAS ADIPOWER VECTOR 20 SHOES\n",
       "2621                   MENS ADIDAS CRICKET HOWZAT SHOES\n",
       "2622                        MENS CRICKET CRI HASE SHOES\n",
       "2623    UNISEX ADIDAS OUTDOOR TERREX DAROGA WATER SHOES\n",
       "2624          MENS ADIDAS BASKETBALL HARDEN VOL 4 SHOES\n",
       "Name: Product Name, Length: 606, dtype: object"
      ]
     },
     "execution_count": 34,
     "metadata": {},
     "output_type": "execute_result"
    }
   ],
   "source": [
    "lista1 = dados[dados['Brand']=='Adidas SPORT PERFORMANCE']['Product Name']\n",
    "lista1"
   ]
  },
  {
   "cell_type": "markdown",
   "metadata": {},
   "source": [
    "-----\n",
    "Parece que para o nome dos produtos da Adidas Performance existe um padrão, composto por: \n",
    "- Gêneros do produto; \n",
    "- Marca do produto;\n",
    "- Modelo do produto;\n",
    "- Tipo de calçado. \n",
    "\n",
    "----"
   ]
  },
  {
   "cell_type": "code",
   "execution_count": 35,
   "metadata": {},
   "outputs": [
    {
     "data": {
      "text/html": [
       "<div>\n",
       "<style scoped>\n",
       "    .dataframe tbody tr th:only-of-type {\n",
       "        vertical-align: middle;\n",
       "    }\n",
       "\n",
       "    .dataframe tbody tr th {\n",
       "        vertical-align: top;\n",
       "    }\n",
       "\n",
       "    .dataframe thead th {\n",
       "        text-align: right;\n",
       "    }\n",
       "</style>\n",
       "<table border=\"1\" class=\"dataframe\">\n",
       "  <thead>\n",
       "    <tr style=\"text-align: right;\">\n",
       "      <th></th>\n",
       "      <th>Product Name</th>\n",
       "    </tr>\n",
       "  </thead>\n",
       "  <tbody>\n",
       "    <tr>\n",
       "      <th>1432</th>\n",
       "      <td>WOMENS ADIDAS RUNNING AEROBOUNCE 2 SHOES</td>\n",
       "    </tr>\n",
       "    <tr>\n",
       "      <th>1620</th>\n",
       "      <td>WOMENS TENNIS LACELESS HARD COURT SHOES</td>\n",
       "    </tr>\n",
       "    <tr>\n",
       "      <th>1183</th>\n",
       "      <td>MENS ADIDAS RUNNING PUREBOOST SHOES</td>\n",
       "    </tr>\n",
       "    <tr>\n",
       "      <th>2383</th>\n",
       "      <td>MENS ADIDAS FOOTBALL PREDATOR 193 FIRM GROUND ...</td>\n",
       "    </tr>\n",
       "    <tr>\n",
       "      <th>2363</th>\n",
       "      <td>MENS ADIDAS FOOTBALL X 183 FIRM GROUND BOOTS</td>\n",
       "    </tr>\n",
       "    <tr>\n",
       "      <th>1063</th>\n",
       "      <td>MENS ADIDAS FOOTBALL PREDATOR 193 INDOOR SHOES</td>\n",
       "    </tr>\n",
       "    <tr>\n",
       "      <th>1761</th>\n",
       "      <td>MENS ADIDAS OUTDOOR SPRY II SANDALS</td>\n",
       "    </tr>\n",
       "    <tr>\n",
       "      <th>1441</th>\n",
       "      <td>WOMENS ADIDAS RUNNING EDGEBOUNCE SHOES</td>\n",
       "    </tr>\n",
       "    <tr>\n",
       "      <th>1583</th>\n",
       "      <td>WOMENS ADIDAS OUTDOOR TERREX TRACEROCKER SHOES</td>\n",
       "    </tr>\n",
       "    <tr>\n",
       "      <th>2375</th>\n",
       "      <td>MENS PHARRELL WILLIAMS X ADIDAS RUNNING SOLAR ...</td>\n",
       "    </tr>\n",
       "  </tbody>\n",
       "</table>\n",
       "</div>"
      ],
      "text/plain": [
       "                                           Product Name\n",
       "1432           WOMENS ADIDAS RUNNING AEROBOUNCE 2 SHOES\n",
       "1620            WOMENS TENNIS LACELESS HARD COURT SHOES\n",
       "1183                MENS ADIDAS RUNNING PUREBOOST SHOES\n",
       "2383  MENS ADIDAS FOOTBALL PREDATOR 193 FIRM GROUND ...\n",
       "2363       MENS ADIDAS FOOTBALL X 183 FIRM GROUND BOOTS\n",
       "1063     MENS ADIDAS FOOTBALL PREDATOR 193 INDOOR SHOES\n",
       "1761                MENS ADIDAS OUTDOOR SPRY II SANDALS\n",
       "1441             WOMENS ADIDAS RUNNING EDGEBOUNCE SHOES\n",
       "1583     WOMENS ADIDAS OUTDOOR TERREX TRACEROCKER SHOES\n",
       "2375  MENS PHARRELL WILLIAMS X ADIDAS RUNNING SOLAR ..."
      ]
     },
     "execution_count": 35,
     "metadata": {},
     "output_type": "execute_result"
    }
   ],
   "source": [
    "lista1 = lista1.sample(10)\n",
    "lista1 = pd.DataFrame(lista1 )\n",
    "lista1"
   ]
  },
  {
   "cell_type": "code",
   "execution_count": 36,
   "metadata": {},
   "outputs": [
    {
     "data": {
      "text/html": [
       "<div>\n",
       "<style scoped>\n",
       "    .dataframe tbody tr th:only-of-type {\n",
       "        vertical-align: middle;\n",
       "    }\n",
       "\n",
       "    .dataframe tbody tr th {\n",
       "        vertical-align: top;\n",
       "    }\n",
       "\n",
       "    .dataframe thead th {\n",
       "        text-align: right;\n",
       "    }\n",
       "</style>\n",
       "<table border=\"1\" class=\"dataframe\">\n",
       "  <thead>\n",
       "    <tr style=\"text-align: right;\">\n",
       "      <th></th>\n",
       "      <th>genero</th>\n",
       "      <th>marca</th>\n",
       "      <th>modelo</th>\n",
       "      <th>Tipo</th>\n",
       "    </tr>\n",
       "  </thead>\n",
       "  <tbody>\n",
       "    <tr>\n",
       "      <th>1432</th>\n",
       "      <td>WOMENS</td>\n",
       "      <td>ADIDAS</td>\n",
       "      <td>RUNNING AEROBOUNCE 2</td>\n",
       "      <td>SHOES</td>\n",
       "    </tr>\n",
       "    <tr>\n",
       "      <th>1620</th>\n",
       "      <td>WOMENS</td>\n",
       "      <td>None</td>\n",
       "      <td>TENNIS LACELESS HARD COURT</td>\n",
       "      <td>SHOES</td>\n",
       "    </tr>\n",
       "    <tr>\n",
       "      <th>1183</th>\n",
       "      <td>MENS</td>\n",
       "      <td>ADIDAS</td>\n",
       "      <td>RUNNING PUREBOOST</td>\n",
       "      <td>SHOES</td>\n",
       "    </tr>\n",
       "    <tr>\n",
       "      <th>2383</th>\n",
       "      <td>MENS</td>\n",
       "      <td>ADIDAS</td>\n",
       "      <td>FOOTBALL PREDATOR 193 FIRM GROUND</td>\n",
       "      <td>CLEATS</td>\n",
       "    </tr>\n",
       "    <tr>\n",
       "      <th>2363</th>\n",
       "      <td>MENS</td>\n",
       "      <td>ADIDAS</td>\n",
       "      <td>FOOTBALL X 183 FIRM GROUND</td>\n",
       "      <td>BOOTS</td>\n",
       "    </tr>\n",
       "    <tr>\n",
       "      <th>1063</th>\n",
       "      <td>MENS</td>\n",
       "      <td>ADIDAS</td>\n",
       "      <td>FOOTBALL PREDATOR 193 INDOOR</td>\n",
       "      <td>SHOES</td>\n",
       "    </tr>\n",
       "    <tr>\n",
       "      <th>1761</th>\n",
       "      <td>MENS</td>\n",
       "      <td>ADIDAS</td>\n",
       "      <td>OUTDOOR SPRY II</td>\n",
       "      <td>SANDALS</td>\n",
       "    </tr>\n",
       "    <tr>\n",
       "      <th>1441</th>\n",
       "      <td>WOMENS</td>\n",
       "      <td>ADIDAS</td>\n",
       "      <td>RUNNING EDGEBOUNCE</td>\n",
       "      <td>SHOES</td>\n",
       "    </tr>\n",
       "    <tr>\n",
       "      <th>1583</th>\n",
       "      <td>WOMENS</td>\n",
       "      <td>ADIDAS</td>\n",
       "      <td>OUTDOOR TERREX TRACEROCKER</td>\n",
       "      <td>SHOES</td>\n",
       "    </tr>\n",
       "    <tr>\n",
       "      <th>2375</th>\n",
       "      <td>MENS</td>\n",
       "      <td>None</td>\n",
       "      <td>PHARRELL WILLIAMS X ADIDAS RUNNING SOLAR HU PRD</td>\n",
       "      <td>SHOES</td>\n",
       "    </tr>\n",
       "  </tbody>\n",
       "</table>\n",
       "</div>"
      ],
      "text/plain": [
       "      genero   marca                                           modelo     Tipo\n",
       "1432  WOMENS  ADIDAS                             RUNNING AEROBOUNCE 2    SHOES\n",
       "1620  WOMENS    None                       TENNIS LACELESS HARD COURT    SHOES\n",
       "1183    MENS  ADIDAS                                RUNNING PUREBOOST    SHOES\n",
       "2383    MENS  ADIDAS                FOOTBALL PREDATOR 193 FIRM GROUND   CLEATS\n",
       "2363    MENS  ADIDAS                       FOOTBALL X 183 FIRM GROUND    BOOTS\n",
       "1063    MENS  ADIDAS                     FOOTBALL PREDATOR 193 INDOOR    SHOES\n",
       "1761    MENS  ADIDAS                                  OUTDOOR SPRY II  SANDALS\n",
       "1441  WOMENS  ADIDAS                               RUNNING EDGEBOUNCE    SHOES\n",
       "1583  WOMENS  ADIDAS                       OUTDOOR TERREX TRACEROCKER    SHOES\n",
       "2375    MENS    None  PHARRELL WILLIAMS X ADIDAS RUNNING SOLAR HU PRD    SHOES"
      ]
     },
     "execution_count": 36,
     "metadata": {},
     "output_type": "execute_result"
    }
   ],
   "source": [
    "# Primeiro Padrao\n",
    "pattern1 = r\"(?P<genero>MENS|WOMENS)\\s*(?P<marca>ADIDAS)?\\s*(?P<modelo>[A-Z0-9\\s]*)?\\s(?P<Tipo>[A-Z00-9$]*)\"\n",
    "lista1['Product Name'].apply(lambda x: pd.Series(re.match(pattern1, x ).groupdict()))"
   ]
  },
  {
   "cell_type": "code",
   "execution_count": 43,
   "metadata": {},
   "outputs": [
    {
     "data": {
      "text/plain": [
       "0        WOMENS ADIDAS ORIGINALS NMDRACER PRIMEKNIT SHOES\n",
       "1                     WOMENS ADIDAS ORIGINALS SLEEK SHOES\n",
       "4                 WOMENS ADIDAS ORIGINALS TAEKWONDO SHOES\n",
       "9                MENS ADIDAS ORIGINALS FOREST GROVE SHOES\n",
       "10                WOMENS ADIDAS ORIGINALS SWIFT RUN SHOES\n",
       "                              ...                        \n",
       "2579               MENS ADIDAS ORIGINALS ZX 4000 4D SHOES\n",
       "2581          MENS ORIGINALS ACTION SPORTS KIEL LOW SHOES\n",
       "2588                   MENS ADIDAS ORIGINALS 3ST004 SHOES\n",
       "2595               MENS ADIDAS ORIGINALS STAN SMITH SHOES\n",
       "2616    MENS ADIDAS ORIGINALS BY ALEXANDER WANG ADILET...\n",
       "Name: Product Name, Length: 908, dtype: object"
      ]
     },
     "execution_count": 43,
     "metadata": {},
     "output_type": "execute_result"
    }
   ],
   "source": [
    "lista2 = dados[dados['Brand']=='Adidas ORIGINALS']['Product Name']\n",
    "lista2"
   ]
  },
  {
   "cell_type": "code",
   "execution_count": 47,
   "metadata": {},
   "outputs": [
    {
     "data": {
      "text/html": [
       "<div>\n",
       "<style scoped>\n",
       "    .dataframe tbody tr th:only-of-type {\n",
       "        vertical-align: middle;\n",
       "    }\n",
       "\n",
       "    .dataframe tbody tr th {\n",
       "        vertical-align: top;\n",
       "    }\n",
       "\n",
       "    .dataframe thead th {\n",
       "        text-align: right;\n",
       "    }\n",
       "</style>\n",
       "<table border=\"1\" class=\"dataframe\">\n",
       "  <thead>\n",
       "    <tr style=\"text-align: right;\">\n",
       "      <th></th>\n",
       "      <th>Product Name</th>\n",
       "    </tr>\n",
       "  </thead>\n",
       "  <tbody>\n",
       "    <tr>\n",
       "      <th>517</th>\n",
       "      <td>WOMENS ADIDAS ORIGINALS FALCON 2000 SHOES</td>\n",
       "    </tr>\n",
       "    <tr>\n",
       "      <th>386</th>\n",
       "      <td>WOMENS ADIDAS ORIGINALS SAMBAROSE SHOES</td>\n",
       "    </tr>\n",
       "    <tr>\n",
       "      <th>1516</th>\n",
       "      <td>MENS ADIDAS ORIGINALS SAMBA RM SHOES</td>\n",
       "    </tr>\n",
       "    <tr>\n",
       "      <th>2449</th>\n",
       "      <td>MENS ADIDAS ORIGINALS EQT SUPPORT MID ADV PRIM...</td>\n",
       "    </tr>\n",
       "    <tr>\n",
       "      <th>2595</th>\n",
       "      <td>MENS ADIDAS ORIGINALS STAN SMITH SHOES</td>\n",
       "    </tr>\n",
       "    <tr>\n",
       "      <th>1272</th>\n",
       "      <td>WOMENS ADIDAS ORIGINALS FALCON SHOES</td>\n",
       "    </tr>\n",
       "    <tr>\n",
       "      <th>2465</th>\n",
       "      <td>MENS ADIDAS ORIGINALS SKATEBOARDING CITY CUP S...</td>\n",
       "    </tr>\n",
       "    <tr>\n",
       "      <th>2347</th>\n",
       "      <td>MENS ADIDAS ORIGINALS NIZZA SHOES</td>\n",
       "    </tr>\n",
       "    <tr>\n",
       "      <th>1352</th>\n",
       "      <td>MENS ADIDAS ORIGINALS SUPERSTAR SHOES</td>\n",
       "    </tr>\n",
       "    <tr>\n",
       "      <th>2324</th>\n",
       "      <td>MENS ADIDAS ORIGINALS KAMANDA BF SHOES</td>\n",
       "    </tr>\n",
       "  </tbody>\n",
       "</table>\n",
       "</div>"
      ],
      "text/plain": [
       "                                           Product Name\n",
       "517           WOMENS ADIDAS ORIGINALS FALCON 2000 SHOES\n",
       "386             WOMENS ADIDAS ORIGINALS SAMBAROSE SHOES\n",
       "1516               MENS ADIDAS ORIGINALS SAMBA RM SHOES\n",
       "2449  MENS ADIDAS ORIGINALS EQT SUPPORT MID ADV PRIM...\n",
       "2595             MENS ADIDAS ORIGINALS STAN SMITH SHOES\n",
       "1272               WOMENS ADIDAS ORIGINALS FALCON SHOES\n",
       "2465  MENS ADIDAS ORIGINALS SKATEBOARDING CITY CUP S...\n",
       "2347                  MENS ADIDAS ORIGINALS NIZZA SHOES\n",
       "1352              MENS ADIDAS ORIGINALS SUPERSTAR SHOES\n",
       "2324             MENS ADIDAS ORIGINALS KAMANDA BF SHOES"
      ]
     },
     "execution_count": 47,
     "metadata": {},
     "output_type": "execute_result"
    }
   ],
   "source": [
    "lista2 = lista2.sample(10)\n",
    "lista2 = pd.DataFrame(lista2)\n",
    "lista2"
   ]
  },
  {
   "cell_type": "code",
   "execution_count": 44,
   "metadata": {},
   "outputs": [],
   "source": [
    "# Primeiro Padrao\n",
    "pattern2 = r\"(?P<genero>MENS|WOMENS)\\s*(?P<marca>ADIDAS)?\\s*(?P<modelo>[A-Z0-9\\s]*)?\\s(?P<Tipo>[A-Z00-9$]*)\"\n"
   ]
  },
  {
   "cell_type": "code",
   "execution_count": 48,
   "metadata": {},
   "outputs": [
    {
     "data": {
      "text/html": [
       "<div>\n",
       "<style scoped>\n",
       "    .dataframe tbody tr th:only-of-type {\n",
       "        vertical-align: middle;\n",
       "    }\n",
       "\n",
       "    .dataframe tbody tr th {\n",
       "        vertical-align: top;\n",
       "    }\n",
       "\n",
       "    .dataframe thead th {\n",
       "        text-align: right;\n",
       "    }\n",
       "</style>\n",
       "<table border=\"1\" class=\"dataframe\">\n",
       "  <thead>\n",
       "    <tr style=\"text-align: right;\">\n",
       "      <th></th>\n",
       "      <th>genero</th>\n",
       "      <th>marca</th>\n",
       "      <th>modelo</th>\n",
       "      <th>Tipo</th>\n",
       "    </tr>\n",
       "  </thead>\n",
       "  <tbody>\n",
       "    <tr>\n",
       "      <th>517</th>\n",
       "      <td>WOMENS</td>\n",
       "      <td>ADIDAS</td>\n",
       "      <td>ORIGINALS FALCON 2000</td>\n",
       "      <td>SHOES</td>\n",
       "    </tr>\n",
       "    <tr>\n",
       "      <th>386</th>\n",
       "      <td>WOMENS</td>\n",
       "      <td>ADIDAS</td>\n",
       "      <td>ORIGINALS SAMBAROSE</td>\n",
       "      <td>SHOES</td>\n",
       "    </tr>\n",
       "    <tr>\n",
       "      <th>1516</th>\n",
       "      <td>MENS</td>\n",
       "      <td>ADIDAS</td>\n",
       "      <td>ORIGINALS SAMBA RM</td>\n",
       "      <td>SHOES</td>\n",
       "    </tr>\n",
       "    <tr>\n",
       "      <th>2449</th>\n",
       "      <td>MENS</td>\n",
       "      <td>ADIDAS</td>\n",
       "      <td>ORIGINALS EQT SUPPORT MID ADV PRIMEKNIT</td>\n",
       "      <td>SHOES</td>\n",
       "    </tr>\n",
       "    <tr>\n",
       "      <th>2595</th>\n",
       "      <td>MENS</td>\n",
       "      <td>ADIDAS</td>\n",
       "      <td>ORIGINALS STAN SMITH</td>\n",
       "      <td>SHOES</td>\n",
       "    </tr>\n",
       "    <tr>\n",
       "      <th>1272</th>\n",
       "      <td>WOMENS</td>\n",
       "      <td>ADIDAS</td>\n",
       "      <td>ORIGINALS FALCON</td>\n",
       "      <td>SHOES</td>\n",
       "    </tr>\n",
       "    <tr>\n",
       "      <th>2465</th>\n",
       "      <td>MENS</td>\n",
       "      <td>ADIDAS</td>\n",
       "      <td>ORIGINALS SKATEBOARDING CITY CUP</td>\n",
       "      <td>SHOES</td>\n",
       "    </tr>\n",
       "    <tr>\n",
       "      <th>2347</th>\n",
       "      <td>MENS</td>\n",
       "      <td>ADIDAS</td>\n",
       "      <td>ORIGINALS NIZZA</td>\n",
       "      <td>SHOES</td>\n",
       "    </tr>\n",
       "    <tr>\n",
       "      <th>1352</th>\n",
       "      <td>MENS</td>\n",
       "      <td>ADIDAS</td>\n",
       "      <td>ORIGINALS SUPERSTAR</td>\n",
       "      <td>SHOES</td>\n",
       "    </tr>\n",
       "    <tr>\n",
       "      <th>2324</th>\n",
       "      <td>MENS</td>\n",
       "      <td>ADIDAS</td>\n",
       "      <td>ORIGINALS KAMANDA BF</td>\n",
       "      <td>SHOES</td>\n",
       "    </tr>\n",
       "  </tbody>\n",
       "</table>\n",
       "</div>"
      ],
      "text/plain": [
       "      genero   marca                                   modelo   Tipo\n",
       "517   WOMENS  ADIDAS                    ORIGINALS FALCON 2000  SHOES\n",
       "386   WOMENS  ADIDAS                      ORIGINALS SAMBAROSE  SHOES\n",
       "1516    MENS  ADIDAS                       ORIGINALS SAMBA RM  SHOES\n",
       "2449    MENS  ADIDAS  ORIGINALS EQT SUPPORT MID ADV PRIMEKNIT  SHOES\n",
       "2595    MENS  ADIDAS                     ORIGINALS STAN SMITH  SHOES\n",
       "1272  WOMENS  ADIDAS                         ORIGINALS FALCON  SHOES\n",
       "2465    MENS  ADIDAS         ORIGINALS SKATEBOARDING CITY CUP  SHOES\n",
       "2347    MENS  ADIDAS                          ORIGINALS NIZZA  SHOES\n",
       "1352    MENS  ADIDAS                      ORIGINALS SUPERSTAR  SHOES\n",
       "2324    MENS  ADIDAS                     ORIGINALS KAMANDA BF  SHOES"
      ]
     },
     "execution_count": 48,
     "metadata": {},
     "output_type": "execute_result"
    }
   ],
   "source": [
    "lista2['Product Name'].apply(lambda x: pd.Series(re.match(pattern2,x).groupdict()))"
   ]
  },
  {
   "cell_type": "code",
   "execution_count": 49,
   "metadata": {},
   "outputs": [
    {
     "data": {
      "text/html": [
       "<div>\n",
       "<style scoped>\n",
       "    .dataframe tbody tr th:only-of-type {\n",
       "        vertical-align: middle;\n",
       "    }\n",
       "\n",
       "    .dataframe tbody tr th {\n",
       "        vertical-align: top;\n",
       "    }\n",
       "\n",
       "    .dataframe thead th {\n",
       "        text-align: right;\n",
       "    }\n",
       "</style>\n",
       "<table border=\"1\" class=\"dataframe\">\n",
       "  <thead>\n",
       "    <tr style=\"text-align: right;\">\n",
       "      <th></th>\n",
       "      <th>Product Name</th>\n",
       "    </tr>\n",
       "  </thead>\n",
       "  <tbody>\n",
       "    <tr>\n",
       "      <th>1862</th>\n",
       "      <td>MENS ADIDAS SPORT INSPIRED CLOUDFOAM ULTIMATE ...</td>\n",
       "    </tr>\n",
       "    <tr>\n",
       "      <th>1089</th>\n",
       "      <td>WOMENS ADIDAS RUNNING ENERGYFALCON X SHOES</td>\n",
       "    </tr>\n",
       "    <tr>\n",
       "      <th>1779</th>\n",
       "      <td>MENS ADIDAS SPORT INSPIRED GLARUS SHOES</td>\n",
       "    </tr>\n",
       "    <tr>\n",
       "      <th>446</th>\n",
       "      <td>MENS ADIDAS RUNNING KALUS 10 SHOES</td>\n",
       "    </tr>\n",
       "    <tr>\n",
       "      <th>379</th>\n",
       "      <td>WOMENS ADIDAS RUNNING SOORAJ SHOES</td>\n",
       "    </tr>\n",
       "    <tr>\n",
       "      <th>2084</th>\n",
       "      <td>MENS ADIDAS SPORT INSPIRED CLOUDFOAM RACER TR ...</td>\n",
       "    </tr>\n",
       "    <tr>\n",
       "      <th>350</th>\n",
       "      <td>MENS ADIDAS SPORT INSPIRED BLAZE RUNNER SHOES</td>\n",
       "    </tr>\n",
       "    <tr>\n",
       "      <th>342</th>\n",
       "      <td>MENS ADIDAS SPORT INSPIRED QUICKSPIKE SHOES</td>\n",
       "    </tr>\n",
       "    <tr>\n",
       "      <th>392</th>\n",
       "      <td>WOMENS ADIDAS SWIMMING EEZAY 2019 SLIPPERS</td>\n",
       "    </tr>\n",
       "    <tr>\n",
       "      <th>232</th>\n",
       "      <td>WOMENS ADIDAS SPORT INSPIRED QT RACER SHOES</td>\n",
       "    </tr>\n",
       "  </tbody>\n",
       "</table>\n",
       "</div>"
      ],
      "text/plain": [
       "                                           Product Name\n",
       "1862  MENS ADIDAS SPORT INSPIRED CLOUDFOAM ULTIMATE ...\n",
       "1089         WOMENS ADIDAS RUNNING ENERGYFALCON X SHOES\n",
       "1779            MENS ADIDAS SPORT INSPIRED GLARUS SHOES\n",
       "446                  MENS ADIDAS RUNNING KALUS 10 SHOES\n",
       "379                  WOMENS ADIDAS RUNNING SOORAJ SHOES\n",
       "2084  MENS ADIDAS SPORT INSPIRED CLOUDFOAM RACER TR ...\n",
       "350       MENS ADIDAS SPORT INSPIRED BLAZE RUNNER SHOES\n",
       "342         MENS ADIDAS SPORT INSPIRED QUICKSPIKE SHOES\n",
       "392          WOMENS ADIDAS SWIMMING EEZAY 2019 SLIPPERS\n",
       "232         WOMENS ADIDAS SPORT INSPIRED QT RACER SHOES"
      ]
     },
     "execution_count": 49,
     "metadata": {},
     "output_type": "execute_result"
    }
   ],
   "source": [
    "lista3 = dados[dados['Brand']=='Adidas CORE / NEO']['Product Name']\n",
    "lista3 = lista3.sample(10)\n",
    "lista3 = pd.DataFrame(lista3)\n",
    "lista3"
   ]
  },
  {
   "cell_type": "code",
   "execution_count": 50,
   "metadata": {},
   "outputs": [],
   "source": [
    "# Primeiro Padrao\n",
    "pattern3 = r\"(?P<genero>MENS|WOMENS)\\s*(?P<marca>ADIDAS)?\\s*(?P<modelo>[A-Z0-9\\s]*)?\\s(?P<Tipo>[A-Z00-9$]*)\"\n"
   ]
  },
  {
   "cell_type": "code",
   "execution_count": 51,
   "metadata": {},
   "outputs": [
    {
     "data": {
      "text/html": [
       "<div>\n",
       "<style scoped>\n",
       "    .dataframe tbody tr th:only-of-type {\n",
       "        vertical-align: middle;\n",
       "    }\n",
       "\n",
       "    .dataframe tbody tr th {\n",
       "        vertical-align: top;\n",
       "    }\n",
       "\n",
       "    .dataframe thead th {\n",
       "        text-align: right;\n",
       "    }\n",
       "</style>\n",
       "<table border=\"1\" class=\"dataframe\">\n",
       "  <thead>\n",
       "    <tr style=\"text-align: right;\">\n",
       "      <th></th>\n",
       "      <th>genero</th>\n",
       "      <th>marca</th>\n",
       "      <th>modelo</th>\n",
       "      <th>Tipo</th>\n",
       "    </tr>\n",
       "  </thead>\n",
       "  <tbody>\n",
       "    <tr>\n",
       "      <th>1862</th>\n",
       "      <td>MENS</td>\n",
       "      <td>ADIDAS</td>\n",
       "      <td>SPORT INSPIRED CLOUDFOAM ULTIMATE</td>\n",
       "      <td>SHOES</td>\n",
       "    </tr>\n",
       "    <tr>\n",
       "      <th>1089</th>\n",
       "      <td>WOMENS</td>\n",
       "      <td>ADIDAS</td>\n",
       "      <td>RUNNING ENERGYFALCON X</td>\n",
       "      <td>SHOES</td>\n",
       "    </tr>\n",
       "    <tr>\n",
       "      <th>1779</th>\n",
       "      <td>MENS</td>\n",
       "      <td>ADIDAS</td>\n",
       "      <td>SPORT INSPIRED GLARUS</td>\n",
       "      <td>SHOES</td>\n",
       "    </tr>\n",
       "    <tr>\n",
       "      <th>446</th>\n",
       "      <td>MENS</td>\n",
       "      <td>ADIDAS</td>\n",
       "      <td>RUNNING KALUS 10</td>\n",
       "      <td>SHOES</td>\n",
       "    </tr>\n",
       "    <tr>\n",
       "      <th>379</th>\n",
       "      <td>WOMENS</td>\n",
       "      <td>ADIDAS</td>\n",
       "      <td>RUNNING SOORAJ</td>\n",
       "      <td>SHOES</td>\n",
       "    </tr>\n",
       "    <tr>\n",
       "      <th>2084</th>\n",
       "      <td>MENS</td>\n",
       "      <td>ADIDAS</td>\n",
       "      <td>SPORT INSPIRED CLOUDFOAM RACER TR</td>\n",
       "      <td>SHOES</td>\n",
       "    </tr>\n",
       "    <tr>\n",
       "      <th>350</th>\n",
       "      <td>MENS</td>\n",
       "      <td>ADIDAS</td>\n",
       "      <td>SPORT INSPIRED BLAZE RUNNER</td>\n",
       "      <td>SHOES</td>\n",
       "    </tr>\n",
       "    <tr>\n",
       "      <th>342</th>\n",
       "      <td>MENS</td>\n",
       "      <td>ADIDAS</td>\n",
       "      <td>SPORT INSPIRED QUICKSPIKE</td>\n",
       "      <td>SHOES</td>\n",
       "    </tr>\n",
       "    <tr>\n",
       "      <th>392</th>\n",
       "      <td>WOMENS</td>\n",
       "      <td>ADIDAS</td>\n",
       "      <td>SWIMMING EEZAY 2019</td>\n",
       "      <td>SLIPPERS</td>\n",
       "    </tr>\n",
       "    <tr>\n",
       "      <th>232</th>\n",
       "      <td>WOMENS</td>\n",
       "      <td>ADIDAS</td>\n",
       "      <td>SPORT INSPIRED QT RACER</td>\n",
       "      <td>SHOES</td>\n",
       "    </tr>\n",
       "  </tbody>\n",
       "</table>\n",
       "</div>"
      ],
      "text/plain": [
       "      genero   marca                             modelo      Tipo\n",
       "1862    MENS  ADIDAS  SPORT INSPIRED CLOUDFOAM ULTIMATE     SHOES\n",
       "1089  WOMENS  ADIDAS             RUNNING ENERGYFALCON X     SHOES\n",
       "1779    MENS  ADIDAS              SPORT INSPIRED GLARUS     SHOES\n",
       "446     MENS  ADIDAS                   RUNNING KALUS 10     SHOES\n",
       "379   WOMENS  ADIDAS                     RUNNING SOORAJ     SHOES\n",
       "2084    MENS  ADIDAS  SPORT INSPIRED CLOUDFOAM RACER TR     SHOES\n",
       "350     MENS  ADIDAS        SPORT INSPIRED BLAZE RUNNER     SHOES\n",
       "342     MENS  ADIDAS          SPORT INSPIRED QUICKSPIKE     SHOES\n",
       "392   WOMENS  ADIDAS                SWIMMING EEZAY 2019  SLIPPERS\n",
       "232   WOMENS  ADIDAS            SPORT INSPIRED QT RACER     SHOES"
      ]
     },
     "execution_count": 51,
     "metadata": {},
     "output_type": "execute_result"
    }
   ],
   "source": [
    "lista3['Product Name'].apply(lambda x: pd.Series(re.match(pattern2,x).groupdict()))"
   ]
  },
  {
   "cell_type": "code",
   "execution_count": 45,
   "metadata": {},
   "outputs": [],
   "source": [
    "# Lista de dados da Nike"
   ]
  },
  {
   "cell_type": "code",
   "execution_count": 44,
   "metadata": {},
   "outputs": [
    {
     "data": {
      "text/plain": [
       "2625           NIKE AIR FORCE 1 07 ESSENTIAL\n",
       "2626                     NIKE AIR FORCE 1 07\n",
       "2627            NIKE AIR FORCE 1 SAGE LOW LX\n",
       "2628                     NIKE AIR MAX DIA SE\n",
       "2629                     NIKE AIR MAX VERONA\n",
       "                        ...                 \n",
       "3263                      AIR JORDAN 8 RETRO\n",
       "3264              NIKE PHANTOM VENOM CLUB IC\n",
       "3265    NIKE MERCURIAL SUPERFLY 7 ACADEMY TF\n",
       "3266                         NIKE AIR MAX 98\n",
       "3267                           NIKE P6000 SE\n",
       "Name: Product Name, Length: 643, dtype: object"
      ]
     },
     "execution_count": 44,
     "metadata": {},
     "output_type": "execute_result"
    }
   ],
   "source": [
    "dados[dados['Brand']=='Nike']['Product Name']\n"
   ]
  },
  {
   "cell_type": "code",
   "execution_count": 55,
   "metadata": {},
   "outputs": [
    {
     "data": {
      "text/html": [
       "<div>\n",
       "<style scoped>\n",
       "    .dataframe tbody tr th:only-of-type {\n",
       "        vertical-align: middle;\n",
       "    }\n",
       "\n",
       "    .dataframe tbody tr th {\n",
       "        vertical-align: top;\n",
       "    }\n",
       "\n",
       "    .dataframe thead th {\n",
       "        text-align: right;\n",
       "    }\n",
       "</style>\n",
       "<table border=\"1\" class=\"dataframe\">\n",
       "  <thead>\n",
       "    <tr style=\"text-align: right;\">\n",
       "      <th></th>\n",
       "      <th>Product Name</th>\n",
       "    </tr>\n",
       "  </thead>\n",
       "  <tbody>\n",
       "    <tr>\n",
       "      <th>2882</th>\n",
       "      <td>JORDAN MAX 200</td>\n",
       "    </tr>\n",
       "    <tr>\n",
       "      <th>2854</th>\n",
       "      <td>NIKE JOYRIDE DUAL RUN</td>\n",
       "    </tr>\n",
       "    <tr>\n",
       "      <th>2902</th>\n",
       "      <td>NIKE AIR MAX 720 HORIZON</td>\n",
       "    </tr>\n",
       "    <tr>\n",
       "      <th>2973</th>\n",
       "      <td>NIKE REACT METCON</td>\n",
       "    </tr>\n",
       "    <tr>\n",
       "      <th>3130</th>\n",
       "      <td>NIKE AIR MAX TAILWIND IV</td>\n",
       "    </tr>\n",
       "    <tr>\n",
       "      <th>2977</th>\n",
       "      <td>NIKE MERCURIAL VAPOR 13 ACADEMY MDS TF</td>\n",
       "    </tr>\n",
       "    <tr>\n",
       "      <th>3242</th>\n",
       "      <td>NIKE BLAZER LOW SUEDE</td>\n",
       "    </tr>\n",
       "    <tr>\n",
       "      <th>3053</th>\n",
       "      <td>NIKE AIR HUARACHE</td>\n",
       "    </tr>\n",
       "    <tr>\n",
       "      <th>2686</th>\n",
       "      <td>NIKE MERCURIAL VAPOR 13 ACADEMY NEYMAR JR TF</td>\n",
       "    </tr>\n",
       "    <tr>\n",
       "      <th>2765</th>\n",
       "      <td>PG 4 EP</td>\n",
       "    </tr>\n",
       "  </tbody>\n",
       "</table>\n",
       "</div>"
      ],
      "text/plain": [
       "                                      Product Name\n",
       "2882                                JORDAN MAX 200\n",
       "2854                         NIKE JOYRIDE DUAL RUN\n",
       "2902                      NIKE AIR MAX 720 HORIZON\n",
       "2973                             NIKE REACT METCON\n",
       "3130                      NIKE AIR MAX TAILWIND IV\n",
       "2977        NIKE MERCURIAL VAPOR 13 ACADEMY MDS TF\n",
       "3242                         NIKE BLAZER LOW SUEDE\n",
       "3053                             NIKE AIR HUARACHE\n",
       "2686  NIKE MERCURIAL VAPOR 13 ACADEMY NEYMAR JR TF\n",
       "2765                                       PG 4 EP"
      ]
     },
     "execution_count": 55,
     "metadata": {},
     "output_type": "execute_result"
    }
   ],
   "source": [
    "lista4 = dados[dados['Brand']=='Nike']['Product Name']\n",
    "lista4 = lista4.sample(10)\n",
    "lista4 = pd.DataFrame(lista4)\n",
    "lista4\n"
   ]
  },
  {
   "cell_type": "code",
   "execution_count": 70,
   "metadata": {},
   "outputs": [],
   "source": [
    "pattern4 = r'(?P<Brand>NIKE|JORDAN|PG)\\s(?P<Model>[\\w\\s-]+?)(?:\\s+(?P<Version>\\d+.*?))?(?:\\s+(?P<Extra>TF|EP|NEYMAR JR|MDS))?$'\n"
   ]
  },
  {
   "cell_type": "code",
   "execution_count": 71,
   "metadata": {},
   "outputs": [
    {
     "data": {
      "text/html": [
       "<div>\n",
       "<style scoped>\n",
       "    .dataframe tbody tr th:only-of-type {\n",
       "        vertical-align: middle;\n",
       "    }\n",
       "\n",
       "    .dataframe tbody tr th {\n",
       "        vertical-align: top;\n",
       "    }\n",
       "\n",
       "    .dataframe thead th {\n",
       "        text-align: right;\n",
       "    }\n",
       "</style>\n",
       "<table border=\"1\" class=\"dataframe\">\n",
       "  <thead>\n",
       "    <tr style=\"text-align: right;\">\n",
       "      <th></th>\n",
       "      <th>Brand</th>\n",
       "      <th>Model</th>\n",
       "      <th>Version</th>\n",
       "      <th>Extra</th>\n",
       "    </tr>\n",
       "  </thead>\n",
       "  <tbody>\n",
       "    <tr>\n",
       "      <th>2882</th>\n",
       "      <td>JORDAN</td>\n",
       "      <td>MAX</td>\n",
       "      <td>200</td>\n",
       "      <td>None</td>\n",
       "    </tr>\n",
       "    <tr>\n",
       "      <th>2854</th>\n",
       "      <td>NIKE</td>\n",
       "      <td>JOYRIDE DUAL RUN</td>\n",
       "      <td>None</td>\n",
       "      <td>None</td>\n",
       "    </tr>\n",
       "    <tr>\n",
       "      <th>2902</th>\n",
       "      <td>NIKE</td>\n",
       "      <td>AIR MAX</td>\n",
       "      <td>720 HORIZON</td>\n",
       "      <td>None</td>\n",
       "    </tr>\n",
       "    <tr>\n",
       "      <th>2973</th>\n",
       "      <td>NIKE</td>\n",
       "      <td>REACT METCON</td>\n",
       "      <td>None</td>\n",
       "      <td>None</td>\n",
       "    </tr>\n",
       "    <tr>\n",
       "      <th>3130</th>\n",
       "      <td>NIKE</td>\n",
       "      <td>AIR MAX TAILWIND IV</td>\n",
       "      <td>None</td>\n",
       "      <td>None</td>\n",
       "    </tr>\n",
       "    <tr>\n",
       "      <th>2977</th>\n",
       "      <td>NIKE</td>\n",
       "      <td>MERCURIAL VAPOR</td>\n",
       "      <td>13 ACADEMY MDS</td>\n",
       "      <td>TF</td>\n",
       "    </tr>\n",
       "    <tr>\n",
       "      <th>3242</th>\n",
       "      <td>NIKE</td>\n",
       "      <td>BLAZER LOW SUEDE</td>\n",
       "      <td>None</td>\n",
       "      <td>None</td>\n",
       "    </tr>\n",
       "    <tr>\n",
       "      <th>3053</th>\n",
       "      <td>NIKE</td>\n",
       "      <td>AIR HUARACHE</td>\n",
       "      <td>None</td>\n",
       "      <td>None</td>\n",
       "    </tr>\n",
       "    <tr>\n",
       "      <th>2686</th>\n",
       "      <td>NIKE</td>\n",
       "      <td>MERCURIAL VAPOR</td>\n",
       "      <td>13 ACADEMY NEYMAR JR</td>\n",
       "      <td>TF</td>\n",
       "    </tr>\n",
       "    <tr>\n",
       "      <th>2765</th>\n",
       "      <td>PG</td>\n",
       "      <td>4</td>\n",
       "      <td>None</td>\n",
       "      <td>EP</td>\n",
       "    </tr>\n",
       "  </tbody>\n",
       "</table>\n",
       "</div>"
      ],
      "text/plain": [
       "       Brand                Model               Version Extra\n",
       "2882  JORDAN                  MAX                   200  None\n",
       "2854    NIKE     JOYRIDE DUAL RUN                  None  None\n",
       "2902    NIKE              AIR MAX           720 HORIZON  None\n",
       "2973    NIKE         REACT METCON                  None  None\n",
       "3130    NIKE  AIR MAX TAILWIND IV                  None  None\n",
       "2977    NIKE      MERCURIAL VAPOR        13 ACADEMY MDS    TF\n",
       "3242    NIKE     BLAZER LOW SUEDE                  None  None\n",
       "3053    NIKE         AIR HUARACHE                  None  None\n",
       "2686    NIKE      MERCURIAL VAPOR  13 ACADEMY NEYMAR JR    TF\n",
       "2765      PG                    4                  None    EP"
      ]
     },
     "execution_count": 71,
     "metadata": {},
     "output_type": "execute_result"
    }
   ],
   "source": [
    "lista4['Product Name'].apply(lambda x: pd.Series(re.match(pattern4, x).groupdict() if re.match(pattern4, x) else {}))\n"
   ]
  }
 ],
 "metadata": {
  "kernelspec": {
   "display_name": "base",
   "language": "python",
   "name": "python3"
  },
  "language_info": {
   "codemirror_mode": {
    "name": "ipython",
    "version": 3
   },
   "file_extension": ".py",
   "mimetype": "text/x-python",
   "name": "python",
   "nbconvert_exporter": "python",
   "pygments_lexer": "ipython3",
   "version": "3.9.12"
  }
 },
 "nbformat": 4,
 "nbformat_minor": 2
}
